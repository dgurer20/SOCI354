{
 "cells": [
  {
   "cell_type": "markdown",
   "id": "6db3d2e9-7dd9-4b2d-96ef-b7210ec25848",
   "metadata": {},
   "source": [
    "Question 1"
   ]
  },
  {
   "cell_type": "code",
   "execution_count": 61,
   "id": "eca59d2b-ce28-492e-9396-f74de879a74f",
   "metadata": {
    "tags": []
   },
   "outputs": [
    {
     "name": "stdin",
     "output_type": "stream",
     "text": [
      "Make a guess between the numbers 1 and 20:  14\n"
     ]
    },
    {
     "name": "stdout",
     "output_type": "stream",
     "text": [
      "The number you guessed is higher than the correct one. Guess a lower number.\n"
     ]
    },
    {
     "name": "stdin",
     "output_type": "stream",
     "text": [
      "Make a guess between the numbers 1 and 20:  12\n"
     ]
    },
    {
     "name": "stdout",
     "output_type": "stream",
     "text": [
      "The number you guessed is lower than the correct one. Guess a higher number.\n"
     ]
    },
    {
     "name": "stdin",
     "output_type": "stream",
     "text": [
      "Make a guess between the numbers 1 and 20:  13\n"
     ]
    },
    {
     "name": "stdout",
     "output_type": "stream",
     "text": [
      "Yes! 13 is the correct number!\n"
     ]
    }
   ],
   "source": [
    "\n",
    "def my_guessing_game():\n",
    "    correct_no = 13  # my assumed correct number is 13 in this game.\n",
    "    while True:\n",
    "        try:\n",
    "            x = int(input(\"Make a guess between the numbers 1 and 20: \"))\n",
    "            if x< correct_no:  #for the case when a number lower than the assumed one is guessed.\n",
    "                print(\"The number you guessed is lower than the correct one. Guess a higher number.\")\n",
    "            elif x > correct_no:  #for the case where a number higher than the assumed number is guessed \n",
    "                print(\"The number you guessed is higher than the correct one. Guess a lower number.\")\n",
    "            else:    # for the case where the correct number is guessed.\n",
    "                print(f\"Yes! {x} is the correct number!\")\n",
    "                break\n",
    "        except error:   #in the case of entering a non-integer number.\n",
    "            print(\"Please enter a valid number.\")\n",
    "            continue\n",
    "\n",
    "\n",
    "my_guessing_game()"
   ]
  },
  {
   "cell_type": "markdown",
   "id": "3c5bf765-c7bc-411a-b088-cc343be4f3b9",
   "metadata": {},
   "source": [
    "In this example, my assumed correct number is 13. Then, I created a while true loop which will be continued until the correct answer is given. Then, to get respondent's answer, input() command was used. Later, for the comparison of the guessed number and the correct number in the game via conditional statements.  Lastly, to handle non-integer inputs, except command was used. "
   ]
  },
  {
   "cell_type": "code",
   "execution_count": null,
   "id": "bf3283d7-4bce-47c7-a37b-9a9615d4bafd",
   "metadata": {},
   "outputs": [],
   "source": [
    "Question 2"
   ]
  },
  {
   "cell_type": "code",
   "execution_count": 30,
   "id": "354c00b3-25f0-4369-8693-6ba0037caf4a",
   "metadata": {
    "tags": []
   },
   "outputs": [
    {
     "name": "stdout",
     "output_type": "stream",
     "text": [
      "target: 5\n",
      "1\n",
      "target: 2\n",
      "1\n",
      "target: 7\n",
      "2\n",
      "target: 0\n",
      "0\n",
      "target: 11\n",
      "4\n",
      "target: 1\n",
      "0\n",
      "target: 6\n",
      "1\n",
      "target: 8\n",
      "2\n",
      "target: 10\n",
      "3\n"
     ]
    }
   ],
   "source": [
    "import numpy as np\n",
    "\n",
    "import numpy as np\n",
    "\n",
    "def a(integers, target_value):\n",
    "    integers_array = np.array(integers)\n",
    "    \n",
    "    if target_value in integers_array:\n",
    "        return np.where(integers_array == target_value)[0][0]\n",
    "    else:\n",
    "        index = np.searchsorted(integers_array, target_value)\n",
    "        return index\n",
    "\n",
    "integers = [1, 6, 8, 10]\n",
    "\n",
    "#testing\n",
    "target_value = 5\n",
    "print(\"target:\", target_value)\n",
    "print(a(integers, target_value))  \n",
    "\n",
    "target_value = 2\n",
    "print(\"target:\", target_value)\n",
    "print(a(integers, target_value)) \n",
    "\n",
    "target_value = 7\n",
    "print(\"target:\", target_value)\n",
    "print(a(integers, target_value))  \n",
    "\n",
    "#target is smaller than all the numbers in the list\n",
    "target_value = min(integers) - 1\n",
    "print(\"target:\", target_value)\n",
    "print(a(integers, target_value))\n",
    "\n",
    "#target is greater than all the numbers in the list\n",
    "target_value = max(integers) + 1\n",
    "print(\"target:\", target_value)\n",
    "print(a(integers, target_value))\n",
    "\n",
    "#target is already in the list\n",
    "for i in integers:\n",
    "    target_value = i\n",
    "    print(\"target:\", target_value)\n",
    "    print(a(integers, target_value))\n",
    "\n"
   ]
  },
  {
   "cell_type": "markdown",
   "id": "ba5797f3-02f3-48e2-95b6-a16271ad40ad",
   "metadata": {},
   "source": [
    "I converted the input list consisting of integers into a numpy array to perform the necessary operations on that array. Then if statements checks whether the target value is present in the array. In the case where it is present in the array, return np.where command puts the integer entered to the place it first appears in the array. With the np.searchsorted command, if the target number is not present in the array, it will be inserted according to the sorting order in the array. After joining the question answer session, creating a for loop for the case where target value is in the list is suggested since before that the output wasn't numerical . Also, for loop was divided into cases where target is smaller than all the numbers in list and greater than all the numbers in the list."
   ]
  },
  {
   "cell_type": "markdown",
   "id": "be6e5beb-9337-4bec-8abf-7992dadd7822",
   "metadata": {},
   "source": [
    "Question 3"
   ]
  },
  {
   "cell_type": "code",
   "execution_count": 71,
   "id": "07bed0d0-d75b-44ff-bc62-16c5cfa982de",
   "metadata": {
    "tags": []
   },
   "outputs": [
    {
     "name": "stdout",
     "output_type": "stream",
     "text": [
      "1000\n",
      "10000\n"
     ]
    }
   ],
   "source": [
    "def x(a, b):\n",
    "    \n",
    "    integer_a = int(a, 2)  # Conversion of binary strings to integers\n",
    "    integer_b = int(b, 2)\n",
    "    \n",
    "   \n",
    "    sum_ab = integer_a + integer_b  #summing up the integers\n",
    "\n",
    "   \n",
    "    final_result = bin(sum_ab)[2:]  #?? # Converting the sum back to a binary string form.\n",
    "    \n",
    "    return final_result\n",
    "\n",
    "#testing \n",
    "a = \"101\"\n",
    "b = \"11\"\n",
    "print(x(a, b))  \n",
    "\n",
    "a = \"1111\"\n",
    "b = \"1\"\n",
    "print(x(a, b))"
   ]
  },
  {
   "cell_type": "markdown",
   "id": "56a432dd-adac-4a9e-9fb5-b3290ea2fcfc",
   "metadata": {},
   "source": [
    "In order to convert the sum of a and b to a binary string, \"bin(sum_ab) and (2:) were used to get rid of the prefix \"0b\" ( in that part, I search for this command via internet. "
   ]
  },
  {
   "cell_type": "markdown",
   "id": "2945aad1-57e4-48a0-8dd4-063d1cb4b4a7",
   "metadata": {},
   "source": [
    "Question 4"
   ]
  },
  {
   "cell_type": "code",
   "execution_count": 72,
   "id": "ef51af05-c2f6-47b4-ac35-defbf1cc4a34",
   "metadata": {
    "tags": []
   },
   "outputs": [
    {
     "name": "stdout",
     "output_type": "stream",
     "text": [
      "7\n"
     ]
    }
   ],
   "source": [
    "import numpy as np\n",
    "\n",
    "def x(integers):  #function x was defined \n",
    "    y = {}  #I created an empty dictionary called y.\n",
    "    \n",
    "    \n",
    "    for a in integers: #counting the occurrences of each number in the integer list.\n",
    "        if a in y:\n",
    "            y[a] += 1    #For each a value, I check if it exists in the dictionary y and increase the count of the number by 1.\n",
    "        else:\n",
    "           y[a] = 1  #for the case if the number doesn't exist in the list to be added to the dictionary with the count of 1.\n",
    "    \n",
    "   \n",
    "    for single_value, b in y.items():  # to find the number with only one occurrence, single_value list is created.\n",
    "        if b == 1:  #we look through the y dictionary to find the number that appears only once \n",
    "            return single_value\n",
    "\n",
    "#testing\n",
    "integers = [5, 5, 7, 10, 10]\n",
    "print(x(integers)) \n"
   ]
  },
  {
   "cell_type": "markdown",
   "id": "f030da1c-4fdb-4f9e-a62f-7146aa80afa6",
   "metadata": {},
   "source": [
    "Question 5"
   ]
  },
  {
   "cell_type": "code",
   "execution_count": 41,
   "id": "54f3751b-0ced-41c5-a952-41d34e09cc1f",
   "metadata": {
    "tags": []
   },
   "outputs": [
    {
     "name": "stdout",
     "output_type": "stream",
     "text": [
      "['ACGAAACGAA', 'GAATAGAATA', 'AATAGAATAG', 'ATAGAATAGA', 'TAGAATAGAA', 'GAATAGAATAG', 'AATAGAATAGA', 'ATAGAATAGAA', 'GAATAGAATAGA', 'AATAGAATAGAA', 'GAATAGAATAGAA']\n"
     ]
    }
   ],
   "source": [
    "def x(dna_sequence):\n",
    "    \n",
    "    repeated = []\n",
    "    \n",
    "    for i in range(10, len(dna_sequence)): #going through the DNA sequence starting from (i = 10) to the end.\n",
    "        dna_substrings = []\n",
    "        for j in range(len(dna_sequence) - i + 1): \n",
    "            y = dna_sequence[j:j+i]\n",
    "            dna_substrings.append(y)\n",
    "        \n",
    "        sequence_no = {} #I created a dictionary named sequence_no to store substrings in the DNA sequence.\n",
    "    \n",
    "        for substring in dna_substrings:\n",
    "            if substring in sequence_no:\n",
    "                sequence_no[substring] += 1\n",
    "            else:\n",
    "                sequence_no[substring] = 1\n",
    "        \n",
    "        for sequencee, count in sequence_no.items():\n",
    "            if count > 1:\n",
    "                repeated.append(sequencee)\n",
    "    \n",
    "    return repeated\n",
    "\n",
    "#testing\n",
    "a = \"ACGAAACGAAACGAATAGAATAGAATAGAACCAATCCAATTACCAATGA\"\n",
    "print(x(a))\n"
   ]
  },
  {
   "cell_type": "markdown",
   "id": "018201cc-08ff-46b0-9ee7-747ae1ee7ab5",
   "metadata": {},
   "source": [
    "After talking with TA in the problem session, I tried to create a for loop command wheret that loop is able to count the occurrences of each substring in the dna_substrings list ( while shifting 1 to the right in the string in each step). After counting the occurrences of substrings, the next step before return command allows me to check whether that substring is occurring more than 1; so is repetated in the dna sequence. "
   ]
  }
 ],
 "metadata": {
  "kernelspec": {
   "display_name": "Python 3 (ipykernel)",
   "language": "python",
   "name": "python3"
  },
  "language_info": {
   "codemirror_mode": {
    "name": "ipython",
    "version": 3
   },
   "file_extension": ".py",
   "mimetype": "text/x-python",
   "name": "python",
   "nbconvert_exporter": "python",
   "pygments_lexer": "ipython3",
   "version": "3.11.5"
  }
 },
 "nbformat": 4,
 "nbformat_minor": 5
}
