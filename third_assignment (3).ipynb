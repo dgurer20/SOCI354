{
 "cells": [
  {
   "cell_type": "code",
   "execution_count": 1,
   "id": "30634d79-34f1-4b13-ba64-f92a1fb46748",
   "metadata": {
    "tags": []
   },
   "outputs": [
    {
     "name": "stdout",
     "output_type": "stream",
     "text": [
      "200\n"
     ]
    }
   ],
   "source": [
    "import requests\n",
    "\n",
    "url = 'https://weather.com/weather/tenday/l/8d91a61f51335f35f3cef8b097243519eedb84b67abd36fda37717fe61f4894e'\n",
    "my_answer = requests.get(url)\n",
    "\n",
    "print(my_answer.status_code)\n"
   ]
  },
  {
   "cell_type": "markdown",
   "id": "25c48eee-fe25-4c93-b94a-0531cf8ba903",
   "metadata": {},
   "source": [
    "In this assignment, I will scrape the website weather.com with the specific URL adress https://weather.com/weather/tenday/l/8d91a61f51335f35f3cef8b097243519eedb84b67abd36fda37717fe61f4894e. I will scrape the weather information data for the upcoming 14 days including information regarding temperature, date, humidity level, and sunrise time. "
   ]
  },
  {
   "cell_type": "markdown",
   "id": "f0ffcfa6-2e8d-4a25-8b24-97aa0fca07ea",
   "metadata": {},
   "source": [
    "here, i used the request library for the specified URL adress, then I wrote this code to print the status code, since I got 200, I understood that request was succesfull. "
   ]
  },
  {
   "cell_type": "markdown",
   "id": "387499e4-7dd0-4259-886e-cf1cbcd21de6",
   "metadata": {},
   "source": [
    "QUESTION 2\n",
    "I already had the necessary python library which is Scrapy as chosen in this assignment. "
   ]
  },
  {
   "cell_type": "markdown",
   "id": "79e84832-5288-48ea-8fc8-6c9b9664baaa",
   "metadata": {},
   "source": [
    "QUESTION 3"
   ]
  },
  {
   "cell_type": "code",
   "execution_count": 5,
   "id": "66a8cdd8-40fb-4a75-9a00-44dd355ac930",
   "metadata": {
    "tags": []
   },
   "outputs": [
    {
     "name": "stdout",
     "output_type": "stream",
     "text": [
      "\n",
      "Tue 02\n",
      "\n",
      "Wed 03\n",
      "\n",
      "Thu 04\n",
      "\n",
      "Fri 05\n",
      "\n",
      "Sat 06\n",
      "\n",
      "Sun 07\n",
      "\n",
      "Mon 08\n",
      "\n",
      "Tue 09\n",
      "\n",
      "Wed 10\n",
      "\n",
      "Thu 11\n",
      "\n",
      "Fri 12\n",
      "\n",
      "Sat 13\n",
      "\n",
      "Sun 14\n",
      "\n",
      "Mon 15\n"
     ]
    }
   ],
   "source": [
    "import requests\n",
    "from scrapy.selector import Selector\n",
    "\n",
    "url = 'https://weather.com/weather/tenday/l/8d91a61f51335f35f3cef8b097243519eedb84b67abd36fda37717fe61f4894e'\n",
    "html = requests.get(url).content\n",
    "\n",
    "sel = Selector(text=html)\n",
    "\n",
    "number_of_columns = range(1, 15)\n",
    "for x in number_of_columns:\n",
    "    \n",
    "    xpath_for_dates = f'//*[@id=\"detailIndex{x}\"]/summary/div/div/h3/text()'\n",
    "    \n",
    "   \n",
    "    dates = sel.xpath(xpath_for_dates).getall()\n",
    "    \n",
    "\n",
    "    print()\n",
    "    for y in dates:\n",
    "        print(y.strip())\n",
    "    \n"
   ]
  },
  {
   "cell_type": "markdown",
   "id": "424d3a0b-2a1a-434e-a47a-e84413244c40",
   "metadata": {},
   "source": [
    "throughout the assignment, I will define the range as range (1,15) since to scrape the data of all the 14 days placed in 14 different lines, I specified the range accordingly. While I was inspecting the xpathways of the particular information, I realized that only the x in detailIndex(x) f'//*[@id=\"detailIndex{x}\"]/summary/div/div/h3/text()'pathway was changing from 1 to 14 as I went down the lines, so I arranged the code that way. Same logic was applied for the upcoming questions."
   ]
  },
  {
   "cell_type": "code",
   "execution_count": 3,
   "id": "0700a237-474f-4190-a4c3-5a5dd680b6a9",
   "metadata": {
    "tags": []
   },
   "outputs": [
    {
     "name": "stdout",
     "output_type": "stream",
     "text": [
      "On day 1, temperature is:\n",
      "78\n",
      "\n",
      "\n",
      "On day 2, temperature is:\n",
      "68\n",
      "\n",
      "\n",
      "On day 3, temperature is:\n",
      "68\n",
      "\n",
      "\n",
      "On day 4, temperature is:\n",
      "67\n",
      "\n",
      "\n",
      "On day 5, temperature is:\n",
      "68\n",
      "\n",
      "\n",
      "On day 6, temperature is:\n",
      "67\n",
      "\n",
      "\n",
      "On day 7, temperature is:\n",
      "67\n",
      "\n",
      "\n",
      "On day 8, temperature is:\n",
      "69\n",
      "\n",
      "\n",
      "On day 9, temperature is:\n",
      "70\n",
      "\n",
      "\n",
      "On day 10, temperature is:\n",
      "72\n",
      "\n",
      "\n",
      "On day 11, temperature is:\n",
      "72\n",
      "\n",
      "\n",
      "On day 12, temperature is:\n",
      "70\n",
      "\n",
      "\n",
      "On day 13, temperature is:\n",
      "67\n",
      "\n",
      "\n",
      "On day 14, temperature is:\n",
      "68\n",
      "\n",
      "\n"
     ]
    }
   ],
   "source": [
    "import requests\n",
    "from scrapy.selector import Selector\n",
    "\n",
    "url = 'https://weather.com/weather/tenday/l/8d91a61f51335f35f3cef8b097243519eedb84b67abd36fda37717fe61f4894e'\n",
    "html = requests.get(url).content\n",
    "\n",
    "\n",
    "sel = Selector(text=html)\n",
    "\n",
    "\n",
    "number_of_columns = range(1, 15)\n",
    "\n",
    "for x in number_of_columns:\n",
    "    \n",
    "    xpath_for_temp = f'//*[@id=\"detailIndex{x}\"]/summary/div/div/div[2]/span[1]/text()'\n",
    "    \n",
    "   \n",
    "    y = sel.xpath(xpath_for_temp).get()\n",
    "    \n",
    "   \n",
    "    print(f\"On day {x}, temperature is:\")\n",
    "    print(y.strip())\n",
    "    print(\"\\n\")  \n"
   ]
  },
  {
   "cell_type": "code",
   "execution_count": 6,
   "id": "d7dafee3-b34a-432c-8d0a-59d7fe37491c",
   "metadata": {
    "tags": []
   },
   "outputs": [
    {
     "name": "stdout",
     "output_type": "stream",
     "text": [
      "For day 1,  Humidity is: 49%\n",
      "For day 2,  Humidity is: 49%\n",
      "For day 3,  Humidity is: 48%\n",
      "For day 4,  Humidity is: 59%\n",
      "For day 5,  Humidity is: 55%\n",
      "For day 6,  Humidity is: 57%\n",
      "For day 7,  Humidity is: 58%\n",
      "For day 8,  Humidity is: 59%\n",
      "For day 9,  Humidity is: 59%\n",
      "For day 10,  Humidity is: 58%\n",
      "For day 11,  Humidity is: 58%\n",
      "For day 12,  Humidity is: 62%\n",
      "For day 13,  Humidity is: 65%\n",
      "For day 14,  Humidity is: 61%\n"
     ]
    }
   ],
   "source": [
    "import requests\n",
    "from scrapy.selector import Selector\n",
    "\n",
    "url = 'https://weather.com/weather/tenday/l/8d91a61f51335f35f3cef8b097243519eedb84b67abd36fda37717fe61f4894e'\n",
    "html = requests.get(url).content\n",
    "\n",
    "sel = Selector(text=html)\n",
    "\n",
    "number_of_columns = range(1, 15)\n",
    "\n",
    "for x in number_of_columns:\n",
    "    \n",
    "    xpath_for_humidity = f'//*[@id=\"detailIndex{x}\"]/div/div[2]/ul/li[1]/div/span[2]/text()'\n",
    "    \n",
    "    humidity = sel.xpath(xpath_for_humidity).get()\n",
    "    \n",
    "    if humidity:\n",
    "        print(f\"For day {x},  Humidity is: {humidity.strip()}\")\n",
    "   \n"
   ]
  },
  {
   "cell_type": "code",
   "execution_count": 95,
   "id": "11844906-76f1-414d-b8bb-8cd1222b04c2",
   "metadata": {
    "tags": []
   },
   "outputs": [
    {
     "name": "stdout",
     "output_type": "stream",
     "text": [
      "At day 1, sun rises at:\n",
      "6:45 am\n",
      "At day 2, sun rises at:\n",
      "6:44 am\n",
      "At day 3, sun rises at:\n",
      "6:42 am\n",
      "At day 4, sun rises at:\n",
      "6:40 am\n",
      "At day 5, sun rises at:\n",
      "6:39 am\n",
      "At day 6, sun rises at:\n",
      "6:37 am\n",
      "At day 7, sun rises at:\n",
      "6:35 am\n",
      "At day 8, sun rises at:\n",
      "6:34 am\n",
      "At day 9, sun rises at:\n",
      "6:32 am\n",
      "At day 10, sun rises at:\n",
      "6:31 am\n",
      "At day 11, sun rises at:\n",
      "6:29 am\n",
      "At day 12, sun rises at:\n",
      "6:28 am\n",
      "At day 13, sun rises at:\n",
      "6:26 am\n",
      "At day 14, sun rises at:\n",
      "6:24 am\n"
     ]
    }
   ],
   "source": [
    "import requests\n",
    "from scrapy.selector import Selector\n",
    "\n",
    "url = 'https://weather.com/weather/tenday/l/8d91a61f51335f35f3cef8b097243519eedb84b67abd36fda37717fe61f4894e'\n",
    "html = requests.get(url).content\n",
    "\n",
    "sel = Selector(text=html)\n",
    "\n",
    "no_of_columns = range(1, 15)\n",
    "\n",
    "for x in no_of_columns:\n",
    "\n",
    "    xpath_for_sunrise_time = f'//*[@id=\"detailIndex{x}\"]/div/div[2]/ul/li[3]/div/span[2]/text()'\n",
    "    \n",
    "    \n",
    "    sunrise_time = sel.xpath(xpath_for_sunrise_time).get()\n",
    "    \n",
    "\n",
    "    print(f\"At day {x}, sun rises at:\")\n",
    "    print(sunrise_time.strip())\n",
    "    "
   ]
  },
  {
   "cell_type": "markdown",
   "id": "44365743-dd32-4835-8e53-d03151b4c0e8",
   "metadata": {},
   "source": [
    "QUESTION 4"
   ]
  },
  {
   "cell_type": "code",
   "execution_count": 4,
   "id": "03ca92ee-2014-4c9e-a6cb-1fff5d8ca4d1",
   "metadata": {
    "tags": []
   },
   "outputs": [
    {
     "name": "stdout",
     "output_type": "stream",
     "text": [
      "For day 1:\n",
      "Date Information: Tue 02\n",
      "Temperature Information: 78\n",
      "Humidity Level: 49%\n",
      "Sunrise Time: 6:45 am\n",
      "\n",
      "For day 2:\n",
      "Date Information: Wed 03\n",
      "Temperature Information: 68\n",
      "Humidity Level: 49%\n",
      "Sunrise Time: 6:44 am\n",
      "\n",
      "For day 3:\n",
      "Date Information: Thu 04\n",
      "Temperature Information: 69\n",
      "Humidity Level: 48%\n",
      "Sunrise Time: 6:42 am\n",
      "\n",
      "For day 4:\n",
      "Date Information: Fri 05\n",
      "Temperature Information: 67\n",
      "Humidity Level: 59%\n",
      "Sunrise Time: 6:40 am\n",
      "\n",
      "For day 5:\n",
      "Date Information: Sat 06\n",
      "Temperature Information: 68\n",
      "Humidity Level: 55%\n",
      "Sunrise Time: 6:39 am\n",
      "\n",
      "For day 6:\n",
      "Date Information: Sun 07\n",
      "Temperature Information: 68\n",
      "Humidity Level: 57%\n",
      "Sunrise Time: 6:37 am\n",
      "\n",
      "For day 7:\n",
      "Date Information: Mon 08\n",
      "Temperature Information: 66\n",
      "Humidity Level: 58%\n",
      "Sunrise Time: 6:35 am\n",
      "\n",
      "For day 8:\n",
      "Date Information: Tue 09\n",
      "Temperature Information: 68\n",
      "Humidity Level: 59%\n",
      "Sunrise Time: 6:34 am\n",
      "\n",
      "For day 9:\n",
      "Date Information: Wed 10\n",
      "Temperature Information: 70\n",
      "Humidity Level: 59%\n",
      "Sunrise Time: 6:32 am\n",
      "\n",
      "For day 10:\n",
      "Date Information: Thu 11\n",
      "Temperature Information: 71\n",
      "Humidity Level: 58%\n",
      "Sunrise Time: 6:31 am\n",
      "\n",
      "For day 11:\n",
      "Date Information: Fri 12\n",
      "Temperature Information: 72\n",
      "Humidity Level: 58%\n",
      "Sunrise Time: 6:29 am\n",
      "\n",
      "For day 12:\n",
      "Date Information: Sat 13\n",
      "Temperature Information: 70\n",
      "Humidity Level: 62%\n",
      "Sunrise Time: 6:27 am\n",
      "\n",
      "For day 13:\n",
      "Date Information: Sun 14\n",
      "Temperature Information: 67\n",
      "Humidity Level: 65%\n",
      "Sunrise Time: 6:26 am\n",
      "\n",
      "For day 14:\n",
      "Date Information: Mon 15\n",
      "Temperature Information: 67\n",
      "Humidity Level: 61%\n",
      "Sunrise Time: 6:24 am\n",
      "\n"
     ]
    }
   ],
   "source": [
    "import requests\n",
    "from scrapy.selector import Selector\n",
    "\n",
    "url = 'https://weather.com/weather/tenday/l/8d91a61f51335f35f3cef8b097243519eedb84b67abd36fda37717fe61f4894e'\n",
    "html = requests.get(url).content\n",
    "\n",
    "sel = Selector(text=html)\n",
    "\n",
    "column_numbers = range(1, 15)\n",
    "\n",
    "combined_set = {}\n",
    "\n",
    "for x in column_numbers:\n",
    "    xpath_for_date = f'//*[@id=\"detailIndex{x}\"]/summary/div/div/h3/text()'\n",
    "    xpath_for_temp = f'//*[@id=\"detailIndex{x}\"]/summary/div/div/div[2]/span[1]/text()'\n",
    "    xpath_for_humidity = f'//*[@id=\"detailIndex{x}\"]/div/div[2]/ul/li[1]/div/span[2]/text()'\n",
    "    xpath_for_sunrise = f'//*[@id=\"detailIndex{x}\"]/div/div[2]/ul/li[3]/div/span[2]/text()'\n",
    "    \n",
    "    date_of_the_week = sel.xpath(xpath_for_date).get()\n",
    "    temperature_in_that_day = sel.xpath(xpath_for_temp).get()\n",
    "    humidity_in_that_day = sel.xpath(xpath_for_humidity).get()\n",
    "    sunrise_time = sel.xpath(xpath_for_sunrise).get()\n",
    "    \n",
    "  \n",
    "    date_of_the_week = date_of_the_week.strip() if date_of_the_week else \"No result\"\n",
    "    temperature_in_that_day = temperature_in_that_day.strip() if temperature_in_that_day else \"No result\"\n",
    "    humidity_in_that_day = humidity_in_that_day.strip() if humidity_in_that_day else \"No result\"\n",
    "    sunrise_time = sunrise_time.strip() if sunrise_time else \"No result\"\n",
    "    \n",
    "    combined_set[x] = {\n",
    "        \"Date Information\": date_of_the_week,\n",
    "        \"Temperature Information\": temperature_in_that_day,\n",
    "        \"Humidity Level\": humidity_in_that_day,\n",
    "        \"Sunrise Time\": sunrise_time\n",
    "    }\n",
    "\n",
    "\n",
    "for x, w in combined_set.items():\n",
    "    print(f\"For day {x}:\")\n",
    "    for y, z in w.items():\n",
    "        print(f\"{y}: {z}\")\n",
    "    print()  "
   ]
  },
  {
   "cell_type": "markdown",
   "id": "7fbee8c8-1c71-4440-8e9f-79956d1e453c",
   "metadata": {},
   "source": [
    "above, I organized the data in a way that we can see all the information about date, temp, humidity and sunrise time all together for a particular day. also i added if commands to print \"no result\" when there is a missing or invalid input to clean and handle the data."
   ]
  },
  {
   "cell_type": "markdown",
   "id": "7d62a4dc-c6de-457d-8626-f36ee00e6566",
   "metadata": {},
   "source": [
    "QUESTION 5"
   ]
  },
  {
   "cell_type": "code",
   "execution_count": 114,
   "id": "6e66218e-e1fa-477b-ab45-c95b774166da",
   "metadata": {
    "tags": []
   },
   "outputs": [],
   "source": [
    "import requests\n",
    "from scrapy.selector import Selector\n",
    "import pandas as pd\n",
    "\n",
    "url = 'https://weather.com/weather/tenday/l/8d91a61f51335f35f3cef8b097243519eedb84b67abd36fda37717fe61f4894e'\n",
    "html = requests.get(url).content\n",
    "\n",
    "sel = Selector(text=html)\n",
    "\n",
    "column_numbers = range(1, 15)\n",
    "\n",
    "combined_set = []\n",
    "\n",
    "for x in column_numbers:\n",
    "    xpath_for_date = f'//*[@id=\"detailIndex{x}\"]/summary/div/div/h3/text()'\n",
    "    xpath_for_temp = f'//*[@id=\"detailIndex{x}\"]/summary/div/div/div[2]/span[1]/text()'\n",
    "    xpath_for_humidity = f'//*[@id=\"detailIndex{x}\"]/div/div[2]/ul/li[1]/div/span[2]/text()'\n",
    "    xpath_for_sunrise = f'//*[@id=\"detailIndex{x}\"]/div/div[2]/ul/li[3]/div/span[2]/text()'\n",
    "    \n",
    "    date_of_the_week = sel.xpath(xpath_for_date).get()\n",
    "    temperature_in_that_day = sel.xpath(xpath_for_temp).get()\n",
    "    humidity_in_that_day = sel.xpath(xpath_for_humidity).get()\n",
    "    sunrise_time = sel.xpath(xpath_for_sunrise).get()\n",
    "    \n",
    "    \n",
    "    date_of_the_week = (date_of_the_week.strip())\n",
    "    \n",
    "    if temperature_in_that_day:\n",
    "        temperature_in_that_day = temperature_in_that_day.strip()\n",
    "    \n",
    "    if humidity_in_that_day:\n",
    "        humidity_in_that_day = humidity_in_that_day.strip()\n",
    "    \n",
    "    if sunrise_time:\n",
    "        sunrise_time = sunrise_time.strip()\n",
    "    \n",
    "    combined_set.append({\n",
    "        \"Date Information\": date_of_the_week,\n",
    "        \"Temperature Information\": temperature_in_that_day,\n",
    "        \"Humidity Level\": humidity_in_that_day,\n",
    "        \"Sunrise Time\": sunrise_time\n",
    "    })\n",
    "\n",
    "\n",
    "df = pd.DataFrame(combined_set)\n",
    "\n",
    "\n",
    "df.to_csv(\"my_assignment.csv\", index=False)\n",
    "\n",
    "\n"
   ]
  },
  {
   "cell_type": "code",
   "execution_count": null,
   "id": "60055a06-43e8-49da-93a4-3e6fcb0c78dd",
   "metadata": {},
   "outputs": [],
   "source": []
  }
 ],
 "metadata": {
  "kernelspec": {
   "display_name": "Python 3 (ipykernel)",
   "language": "python",
   "name": "python3"
  },
  "language_info": {
   "codemirror_mode": {
    "name": "ipython",
    "version": 3
   },
   "file_extension": ".py",
   "mimetype": "text/x-python",
   "name": "python",
   "nbconvert_exporter": "python",
   "pygments_lexer": "ipython3",
   "version": "3.11.5"
  }
 },
 "nbformat": 4,
 "nbformat_minor": 5
}
