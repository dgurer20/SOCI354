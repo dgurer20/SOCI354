{
 "cells": [
  {
   "cell_type": "markdown",
   "id": "6db3d2e9-7dd9-4b2d-96ef-b7210ec25848",
   "metadata": {},
   "source": [
    "Question 1"
   ]
  },
  {
   "cell_type": "code",
   "execution_count": 61,
   "id": "eca59d2b-ce28-492e-9396-f74de879a74f",
   "metadata": {
    "tags": []
   },
   "outputs": [
    {
     "name": "stdin",
     "output_type": "stream",
     "text": [
      "Make a guess between the numbers 1 and 20:  14\n"
     ]
    },
    {
     "name": "stdout",
     "output_type": "stream",
     "text": [
      "The number you guessed is higher than the correct one. Guess a lower number.\n"
     ]
    },
    {
     "name": "stdin",
     "output_type": "stream",
     "text": [
      "Make a guess between the numbers 1 and 20:  12\n"
     ]
    },
    {
     "name": "stdout",
     "output_type": "stream",
     "text": [
      "The number you guessed is lower than the correct one. Guess a higher number.\n"
     ]
    },
    {
     "name": "stdin",
     "output_type": "stream",
     "text": [
      "Make a guess between the numbers 1 and 20:  13\n"
     ]
    },
    {
     "name": "stdout",
     "output_type": "stream",
     "text": [
      "Yes! 13 is the correct number!\n"
     ]
    }
   ],
   "source": [
    "\n",
    "def my_guessing_game():\n",
    "    correct_no = 13  # my assumed correct number is 13 in this game.\n",
    "    while True:\n",
    "        try:\n",
    "            x = int(input(\"Make a guess between the numbers 1 and 20: \"))\n",
    "            if x< correct_no:  #for the case when a number lower than the assumed one is guessed.\n",
    "                print(\"The number you guessed is lower than the correct one. Guess a higher number.\")\n",
    "            elif x > correct_no:  #for the case where a number higher than the assumed number is guessed \n",
    "                print(\"The number you guessed is higher than the correct one. Guess a lower number.\")\n",
    "            else:    # for the case where the correct number is guessed.\n",
    "                print(f\"Yes! {x} is the correct number!\")\n",
    "                break\n",
    "        except error:   #in the case of entering a non-integer number.\n",
    "            print(\"Please enter a valid number.\")\n",
    "            continue\n",
    "\n",
    "\n",
    "my_guessing_game()"
   ]
  },
  {
   "cell_type": "markdown",
   "id": "3c5bf765-c7bc-411a-b088-cc343be4f3b9",
   "metadata": {},
   "source": [
    "In this example, my assumed correct number is 13. Then, I created a while true loop which will be continued until the correct answer is given. Then, to get respondent's answer, input() command was used. Later, for the comparison of the guessed number and the correct number in the game via conditional statements.  Lastly, to handle non-integer inputs, except command was used. "
   ]
  },
  {
   "cell_type": "markdown",
   "id": "66c98480-dec2-4803-b377-2578e73a4ef1",
   "metadata": {},
   "source": [
    "Question 2"
   ]
  },
  {
   "cell_type": "code",
   "execution_count": 70,
   "id": "b2a0262b-4821-4cf9-934c-47b054accd0a",
   "metadata": {
    "tags": []
   },
   "outputs": [
    {
     "name": "stdout",
     "output_type": "stream",
     "text": [
      "1\n",
      "1\n",
      "2\n",
      "(array([3]),)\n"
     ]
    }
   ],
   "source": [
    "import numpy as np\n",
    "\n",
    "def a(integers, target_value): #a function named \"a\" was defined\n",
    "   \n",
    "    \n",
    "    integers_array = np.array(integers)  #  input list was converted to a numpy array  \n",
    "    \n",
    "   \n",
    "    if target_value in integers_array:  # to see if the target number is present in the array\n",
    "        return np.where(integers_array == target_value) #to make the target number return the index of the first appareance of target integer in the integers array.\n",
    "    else:\n",
    "       \n",
    "        index = np.searchsorted(integers_array, target_value) #to find the place(index) where the target should be inserted in the array according to the sort if the number is not the target number due to \"else\" command\n",
    "        return index #the target number returns the index where it should be inserted according to the sorted order.\n",
    "\n",
    "\n",
    "#if we test the function (a)\n",
    "integers = [1, 6, 8, 10]\n",
    "\n",
    "target_value = 5\n",
    "print(a(integers, target_value))  \n",
    "\n",
    "target_value = 2\n",
    "print(a(integers, target_value)) \n",
    "\n",
    "target_value = 7\n",
    "print(a(integers, target_value))  \n",
    "\n",
    "target_value = 10 #??\n",
    "print(a(integers, target_value))  \n"
   ]
  },
  {
   "cell_type": "markdown",
   "id": "ba5797f3-02f3-48e2-95b6-a16271ad40ad",
   "metadata": {},
   "source": [
    "I converted the input list consisting of integers into a numpy array to perform the necessary operations on that array. Then if statements checks whether the target value is present in the array. In the case where it is present in the array, return np.where command puts the integer entered to the place it first appears in the array. With the np.searchsorted command, if the target number is not present in the array, it will be inserted according to the sorting order in the array.  "
   ]
  },
  {
   "cell_type": "markdown",
   "id": "be6e5beb-9337-4bec-8abf-7992dadd7822",
   "metadata": {},
   "source": [
    "Question 3"
   ]
  },
  {
   "cell_type": "code",
   "execution_count": 71,
   "id": "07bed0d0-d75b-44ff-bc62-16c5cfa982de",
   "metadata": {
    "tags": []
   },
   "outputs": [
    {
     "name": "stdout",
     "output_type": "stream",
     "text": [
      "1000\n",
      "10000\n"
     ]
    }
   ],
   "source": [
    "def x(a, b):\n",
    "    \n",
    "    integer_a = int(a, 2)  # Conversion of binary strings to integers\n",
    "    integer_b = int(b, 2)\n",
    "    \n",
    "   \n",
    "    sum_ab = integer_a + integer_b  #summing up the integers\n",
    "\n",
    "   \n",
    "    final_result = bin(sum_ab)[2:]  #?? # Converting the sum back to a binary string form.\n",
    "    \n",
    "    return final_result\n",
    "\n",
    "#testing \n",
    "a = \"101\"\n",
    "b = \"11\"\n",
    "print(x(a, b))  \n",
    "\n",
    "a = \"1111\"\n",
    "b = \"1\"\n",
    "print(x(a, b))"
   ]
  },
  {
   "cell_type": "markdown",
   "id": "56a432dd-adac-4a9e-9fb5-b3290ea2fcfc",
   "metadata": {},
   "source": [
    "In order to convert the sum of a and b to a binary string, \"bin(sum_ab) and (2:) were used to get rid of the prefix \"0b\" ( in that part, I search for this command via internet. "
   ]
  },
  {
   "cell_type": "markdown",
   "id": "2945aad1-57e4-48a0-8dd4-063d1cb4b4a7",
   "metadata": {},
   "source": [
    "Question 4"
   ]
  },
  {
   "cell_type": "code",
   "execution_count": 72,
   "id": "ef51af05-c2f6-47b4-ac35-defbf1cc4a34",
   "metadata": {
    "tags": []
   },
   "outputs": [
    {
     "name": "stdout",
     "output_type": "stream",
     "text": [
      "7\n"
     ]
    }
   ],
   "source": [
    "import numpy as np\n",
    "\n",
    "def x(integers):  #function x was defined \n",
    "    y = {}  #I created an empty dictionary called y.\n",
    "    \n",
    "    \n",
    "    for a in integers: #counting the occurrences of each number in the integer list.\n",
    "        if a in y:\n",
    "            y[a] += 1    #For each a value, I check if it exists in the dictionary y and increase the count of the number by 1.\n",
    "        else:\n",
    "           y[a] = 1  #for the case if the number doesn't exist in the list to be added to the dictionary with the count of 1.\n",
    "    \n",
    "   \n",
    "    for single_value, b in y.items():  # to find the number with only one occurrence, single_value list is created.\n",
    "        if b == 1:  #we look through the y dictionary to find the number that appears only once \n",
    "            return single_value\n",
    "\n",
    "#testing\n",
    "integers = [5, 5, 7, 10, 10]\n",
    "print(x(integers)) \n"
   ]
  },
  {
   "cell_type": "markdown",
   "id": "f030da1c-4fdb-4f9e-a62f-7146aa80afa6",
   "metadata": {},
   "source": [
    "Question 5"
   ]
  },
  {
   "cell_type": "code",
   "execution_count": 74,
   "id": "015040c0-c62b-4144-8107-037cb0cf1d81",
   "metadata": {
    "tags": []
   },
   "outputs": [
    {
     "name": "stdout",
     "output_type": "stream",
     "text": [
      "['ACGAAACGAA', 'GAATAGAATA', 'AATAGAATAG', 'ATAGAATAGA', 'TAGAATAGAA']\n"
     ]
    }
   ],
   "source": [
    "def x(dna_sequence):\n",
    "  \n",
    "    sequence_no = {}  #I created a dictionary named sequence_no to store substrings in the DNA sequence.\n",
    "    \n",
    "   \n",
    "    for a in range(len(dna_sequence) - 9):\n",
    "        b = dna_sequence[a:a+10]\n",
    "        \n",
    "        \n",
    "        if b in sequence_no:\n",
    "            sequence_no[b] += 1\n",
    "        else:\n",
    "            sequence_no[b] = 1\n",
    "    \n",
    "   \n",
    "    c = [] #created an empty list c for detecting the repeated strings \n",
    "    for d, number in sequence_no.items():\n",
    "        if number > 1:   #count is greater than 1, we add the substring to the repeated_strings list.\n",
    "            c.append(d)\n",
    "    \n",
    "    return c    #c for the repeated substrings\n",
    "\n",
    "# Test the function\n",
    "s = \"ACGAAACGAAACGAATAGAATAGAATAGAACCAATCCAATTACCAATGA\"\n",
    "print(x(s))  # Output: [\"AAAAACCCCC\", \"CCCCCAAAAA\"]\n",
    "\n"
   ]
  },
  {
   "cell_type": "markdown",
   "id": "018201cc-08ff-46b0-9ee7-747ae1ee7ab5",
   "metadata": {},
   "source": [
    "With the \"for\" loop, the code goes through the DNA sequence to form a 10 lenght substring to be stored in b. Then, for those each 10 lenght substring in the dna sequence,via the if statement, I check if that substring is already existing in the sequence_number dictionary. Similar to the previous question, if it is already in the dictionary, it adds the count by 1 while if it isn't present in the dictionary, it adds it up as 1 new variable. Finally, an empty list called c was created to put the repeated string in the dna sequence. For the substring with a count greater than 1 ( via the command if number > 1) those repeated strings are stored in the c list. "
   ]
  }
 ],
 "metadata": {
  "kernelspec": {
   "display_name": "Python 3 (ipykernel)",
   "language": "python",
   "name": "python3"
  },
  "language_info": {
   "codemirror_mode": {
    "name": "ipython",
    "version": 3
   },
   "file_extension": ".py",
   "mimetype": "text/x-python",
   "name": "python",
   "nbconvert_exporter": "python",
   "pygments_lexer": "ipython3",
   "version": "3.11.5"
  }
 },
 "nbformat": 4,
 "nbformat_minor": 5
}
