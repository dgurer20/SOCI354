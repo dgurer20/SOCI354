{
 "cells": [
  {
   "cell_type": "markdown",
   "id": "39d88b35-c1ac-4319-a8e0-122b8fd91c38",
   "metadata": {},
   "source": [
    "QUESTION 1"
   ]
  },
  {
   "cell_type": "code",
   "execution_count": 3,
   "id": "f5b3a213-ac70-4279-9fbd-51ad8da7613b",
   "metadata": {
    "tags": []
   },
   "outputs": [
    {
     "name": "stdout",
     "output_type": "stream",
     "text": [
      "Requirement already satisfied: geopandas in /Users/dilagurer/anaconda3/lib/python3.11/site-packages (0.14.3)\n",
      "Requirement already satisfied: fiona>=1.8.21 in /Users/dilagurer/anaconda3/lib/python3.11/site-packages (from geopandas) (1.9.6)\n",
      "Requirement already satisfied: packaging in /Users/dilagurer/anaconda3/lib/python3.11/site-packages (from geopandas) (23.1)\n",
      "Requirement already satisfied: pandas>=1.4.0 in /Users/dilagurer/anaconda3/lib/python3.11/site-packages (from geopandas) (2.0.3)\n",
      "Requirement already satisfied: pyproj>=3.3.0 in /Users/dilagurer/anaconda3/lib/python3.11/site-packages (from geopandas) (3.6.1)\n",
      "Requirement already satisfied: shapely>=1.8.0 in /Users/dilagurer/anaconda3/lib/python3.11/site-packages (from geopandas) (2.0.4)\n",
      "Requirement already satisfied: attrs>=19.2.0 in /Users/dilagurer/anaconda3/lib/python3.11/site-packages (from fiona>=1.8.21->geopandas) (22.1.0)\n",
      "Requirement already satisfied: certifi in /Users/dilagurer/anaconda3/lib/python3.11/site-packages (from fiona>=1.8.21->geopandas) (2023.7.22)\n",
      "Requirement already satisfied: click~=8.0 in /Users/dilagurer/anaconda3/lib/python3.11/site-packages (from fiona>=1.8.21->geopandas) (8.0.4)\n",
      "Requirement already satisfied: click-plugins>=1.0 in /Users/dilagurer/anaconda3/lib/python3.11/site-packages (from fiona>=1.8.21->geopandas) (1.1.1)\n",
      "Requirement already satisfied: cligj>=0.5 in /Users/dilagurer/anaconda3/lib/python3.11/site-packages (from fiona>=1.8.21->geopandas) (0.7.2)\n",
      "Requirement already satisfied: six in /Users/dilagurer/anaconda3/lib/python3.11/site-packages (from fiona>=1.8.21->geopandas) (1.16.0)\n",
      "Requirement already satisfied: python-dateutil>=2.8.2 in /Users/dilagurer/anaconda3/lib/python3.11/site-packages (from pandas>=1.4.0->geopandas) (2.8.2)\n",
      "Requirement already satisfied: pytz>=2020.1 in /Users/dilagurer/anaconda3/lib/python3.11/site-packages (from pandas>=1.4.0->geopandas) (2023.3.post1)\n",
      "Requirement already satisfied: tzdata>=2022.1 in /Users/dilagurer/anaconda3/lib/python3.11/site-packages (from pandas>=1.4.0->geopandas) (2023.3)\n",
      "Requirement already satisfied: numpy>=1.21.0 in /Users/dilagurer/anaconda3/lib/python3.11/site-packages (from pandas>=1.4.0->geopandas) (1.24.3)\n",
      "Note: you may need to restart the kernel to use updated packages.\n"
     ]
    }
   ],
   "source": [
    "pip install geopandas\n"
   ]
  },
  {
   "cell_type": "code",
   "execution_count": 6,
   "id": "153517c8-e48e-4b95-9b2c-a3e412f4cf7a",
   "metadata": {
    "tags": []
   },
   "outputs": [],
   "source": [
    "import pandas as pd\n",
    "import numpy as np\n",
    "import geopandas"
   ]
  },
  {
   "cell_type": "code",
   "execution_count": 152,
   "id": "412d902a-7886-4528-8819-498b6a04d74e",
   "metadata": {
    "tags": []
   },
   "outputs": [
    {
     "name": "stdout",
     "output_type": "stream",
     "text": [
      "     STATEFP COUNTYFP  COUNTYNS  GEOID         GEOIDFQ       NAME  \\\n",
      "0         31      039  00835841  31039  0500000US31039     Cuming   \n",
      "1         53      069  01513275  53069  0500000US53069  Wahkiakum   \n",
      "2         35      011  00933054  35011  0500000US35011    De Baca   \n",
      "3         31      109  00835876  31109  0500000US31109  Lancaster   \n",
      "4         31      129  00835886  31129  0500000US31129   Nuckolls   \n",
      "...      ...      ...       ...    ...             ...        ...   \n",
      "3230      13      123  00351260  13123  0500000US13123     Gilmer   \n",
      "3231      27      135  00659513  27135  0500000US27135     Roseau   \n",
      "3232      28      089  00695768  28089  0500000US28089    Madison   \n",
      "3233      48      227  01383899  48227  0500000US48227     Howard   \n",
      "3234      54      099  01550056  54099  0500000US54099      Wayne   \n",
      "\n",
      "              NAMELSAD LSAD CLASSFP  MTFCC CSAFP CBSAFP METDIVFP FUNCSTAT  \\\n",
      "0        Cuming County   06      H1  G4020  None   None     None        A   \n",
      "1     Wahkiakum County   06      H1  G4020  None   None     None        A   \n",
      "2       De Baca County   06      H1  G4020  None   None     None        A   \n",
      "3     Lancaster County   06      H1  G4020   339  30700     None        A   \n",
      "4      Nuckolls County   06      H1  G4020  None   None     None        A   \n",
      "...                ...  ...     ...    ...   ...    ...      ...      ...   \n",
      "3230     Gilmer County   06      H1  G4020  None   None     None        A   \n",
      "3231     Roseau County   06      H1  G4020  None   None     None        A   \n",
      "3232    Madison County   06      H1  G4020   298  27140     None        A   \n",
      "3233     Howard County   06      H1  G4020  None  13700     None        A   \n",
      "3234      Wayne County   06      H1  G4020   170  26580     None        A   \n",
      "\n",
      "           ALAND    AWATER     INTPTLAT      INTPTLON  \\\n",
      "0     1477563029  10772508  +41.9158651  -096.7885168   \n",
      "1      680980771  61564427  +46.2946377  -123.4244583   \n",
      "2     6016818946  29090018  +34.3592729  -104.3686961   \n",
      "3     2169269688  22850324  +40.7835474  -096.6886584   \n",
      "4     1489645187   1718484  +40.1764918  -098.0468422   \n",
      "...          ...       ...          ...           ...   \n",
      "3230  1103893380  12276629  +34.6905232  -084.4548113   \n",
      "3231  4329782924  16924046  +48.7610683  -095.8215042   \n",
      "3232  1849790735  72085470  +32.6343703  -090.0341603   \n",
      "3233  2333039148   8841781  +32.3034298  -101.4387208   \n",
      "3234  1310547889  15816947  +38.1436416  -082.4226659   \n",
      "\n",
      "                                               geometry  \n",
      "0     POLYGON ((-96.55515 41.91587, -96.55515 41.914...  \n",
      "1     POLYGON ((-123.72755 46.26449, -123.72755 46.2...  \n",
      "2     POLYGON ((-104.89337 34.08894, -104.89337 34.0...  \n",
      "3     POLYGON ((-96.68493 40.52330, -96.69219 40.523...  \n",
      "4     POLYGON ((-98.27370 40.11840, -98.27374 40.122...  \n",
      "...                                                 ...  \n",
      "3230  POLYGON ((-84.30237 34.57832, -84.30329 34.577...  \n",
      "3231  POLYGON ((-95.25857 48.88666, -95.25707 48.885...  \n",
      "3232  POLYGON ((-90.14883 32.40026, -90.14890 32.400...  \n",
      "3233  POLYGON ((-101.18138 32.21252, -101.18138 32.2...  \n",
      "3234  POLYGON ((-82.30872 38.28106, -82.30874 38.280...  \n",
      "\n",
      "[3235 rows x 19 columns]\n"
     ]
    }
   ],
   "source": [
    "import geopandas as gpd\n",
    "\n",
    "\n",
    "my_path = \"/Users/dilagurer/Desktop/tl_2023_us_county (2)\"\n",
    "\n",
    "shp = gpd.read_file(my_path)\n",
    "\n",
    "\n",
    "print(shp)\n"
   ]
  },
  {
   "cell_type": "code",
   "execution_count": 153,
   "id": "ef40c06a-e23a-4082-8de7-0554ba55218b",
   "metadata": {
    "tags": []
   },
   "outputs": [
    {
     "data": {
      "text/plain": [
       "<Axes: >"
      ]
     },
     "execution_count": 153,
     "metadata": {},
     "output_type": "execute_result"
    },
    {
     "data": {
      "image/png": "[encoded data removed]",
      "text/plain": [
       "<Figure size 640x480 with 1 Axes>"
      ]
     },
     "metadata": {},
     "output_type": "display_data"
    }
   ],
   "source": [
    "shp.plot()"
   ]
  },
  {
   "cell_type": "code",
   "execution_count": 154,
   "id": "8e2ccd8d-6d94-4e73-b2d9-d73644890938",
   "metadata": {
    "tags": []
   },
   "outputs": [
    {
     "name": "stdout",
     "output_type": "stream",
     "text": [
      "Index(['GEOIDFQ;NAME;S1702_C01_001E;S1702_C01_001M;S1702_C01_002E;S1702_C01_002M;S1702_C01_003E;S1702_C01_003M;S1702_C01_004E;S1702_C01_004M;S1702_C01_005E;S1702_C01_005M;S1702_C01_006E;S1702_C01_006M;S1702_C01_007E;S1702_C01_007M;S1702_C01_008E;S1702_C01_008M;S1702_C01_009E;S1702_C01_009M;S1702_C01_010E;S1702_C01_010M;S1702_C01_011E;S1702_C01_011M;S1702_C01_012E;S1702_C01_012M;S1702_C01_013E;S1702_C01_013M;S1702_C01_014E;S1702_C01_014M;S1702_C01_015E;S1702_C01_015M;S1702_C01_016E;S1702_C01_016M;S1702_C01_017E;S1702_C01_017M;S1702_C01_018E;S1702_C01_018M;S1702_C01_019E;S1702_C01_019M;S1702_C01_020E;S1702_C01_020M;S1702_C01_021E;S1702_C01_021M;S1702_C01_022E;S1702_C01_022M;S1702_C01_023E;S1702_C01_023M;S1702_C01_024E;S1702_C01_024M;S1702_C01_025E;S1702_C01_025M;S1702_C01_026E;S1702_C01_026M;S1702_C01_027E;S1702_C01_027M;S1702_C01_028E;S1702_C01_028M;S1702_C01_029E;S1702_C01_029M;S1702_C01_030E;S1702_C01_030M;S1702_C01_031E;S1702_C01_031M;S1702_C01_032E;S1702_C01_032M;S1702_C01_033E;S1702_C01_033M;S1702_C01_034E;S1702_C01_034M;S1702_C01_035E;S1702_C01_035M;S1702_C01_036E;S1702_C01_036M;S1702_C01_037E;S1702_C01_037M;S1702_C01_038E;S1702_C01_038M;S1702_C01_039E;S1702_C01_039M;S1702_C01_040E;S1702_C01_040M;S1702_C01_041E;S1702_C01_041M;S1702_C01_042E;S1702_C01_042M;S1702_C01_043E;S1702_C01_043M;S1702_C01_044E;S1702_C01_044M;S1702_C01_045E;S1702_C01_045M;S1702_C01_046E;S1702_C01_046M;S1702_C01_047E;S1702_C01_047M;S1702_C01_048E;S1702_C01_048M;S1702_C01_049E;S1702_C01_049M;S1702_C01_050E;S1702_C01_050M;S1702_C02_001E;S1702_C02_001M;S1702_C02_002E;S1702_C02_002M;S1702_C02_003E;S1702_C02_003M;S1702_C02_004E;S1702_C02_004M;S1702_C02_005E;S1702_C02_005M;S1702_C02_006E;S1702_C02_006M;S1702_C02_007E;S1702_C02_007M;S1702_C02_008E;S1702_C02_008M;S1702_C02_009E;S1702_C02_009M;S1702_C02_010E;S1702_C02_010M;S1702_C02_011E;S1702_C02_011M;S1702_C02_012E;S1702_C02_012M;S1702_C02_013E;S1702_C02_013M;S1702_C02_014E;S1702_C02_014M;S1702_C02_015E;S1702_C02_015M;S1702_C02_016E;S1702_C02_016M;S1702_C02_017E;S1702_C02_017M;S1702_C02_018E;S1702_C02_018M;S1702_C02_019E;S1702_C02_019M;S1702_C02_020E;S1702_C02_020M;S1702_C02_021E;S1702_C02_021M;S1702_C02_022E;S1702_C02_022M;S1702_C02_023E;S1702_C02_023M;S1702_C02_024E;S1702_C02_024M;S1702_C02_025E;S1702_C02_025M;S1702_C02_026E;S1702_C02_026M;S1702_C02_027E;S1702_C02_027M;S1702_C02_028E;S1702_C02_028M;S1702_C02_029E;S1702_C02_029M;S1702_C02_030E;S1702_C02_030M;S1702_C02_031E;S1702_C02_031M;S1702_C02_032E;S1702_C02_032M;S1702_C02_033E;S1702_C02_033M;S1702_C02_034E;S1702_C02_034M;S1702_C02_035E;S1702_C02_035M;S1702_C02_036E;S1702_C02_036M;S1702_C02_037E;S1702_C02_037M;S1702_C02_038E;S1702_C02_038M;S1702_C02_039E;S1702_C02_039M;S1702_C02_040E;S1702_C02_040M;S1702_C02_041E;S1702_C02_041M;S1702_C02_042E;S1702_C02_042M;S1702_C02_043E;S1702_C02_043M;S1702_C02_044E;S1702_C02_044M;S1702_C02_045E;S1702_C02_045M;S1702_C02_046E;S1702_C02_046M;S1702_C02_047E;S1702_C02_047M;S1702_C02_048E;S1702_C02_048M;S1702_C02_049E;S1702_C02_049M;S1702_C02_050E;S1702_C02_050M;S1702_C03_001E;S1702_C03_001M;S1702_C03_002E;S1702_C03_002M;S1702_C03_003E;S1702_C03_003M;S1702_C03_004E;S1702_C03_004M;S1702_C03_005E;S1702_C03_005M;S1702_C03_006E;S1702_C03_006M;S1702_C03_007E;S1702_C03_007M;S1702_C03_008E;S1702_C03_008M;S1702_C03_009E;S1702_C03_009M;S1702_C03_010E;S1702_C03_010M;S1702_C03_011E;S1702_C03_011M;S1702_C03_012E;S1702_C03_012M;S1702_C03_013E;S1702_C03_013M;S1702_C03_014E;S1702_C03_014M;S1702_C03_015E;S1702_C03_015M;S1702_C03_016E;S1702_C03_016M;S1702_C03_017E;S1702_C03_017M;S1702_C03_018E;S1702_C03_018M;S1702_C03_019E;S1702_C03_019M;S1702_C03_020E;S1702_C03_020M;S1702_C03_021E;S1702_C03_021M;S1702_C03_022E;S1702_C03_022M;S1702_C03_023E;S1702_C03_023M;S1702_C03_024E;S1702_C03_024M;S1702_C03_025E;S1702_C03_025M;S1702_C03_026E;S1702_C03_026M;S1702_C03_027E;S1702_C03_027M;S1702_C03_028E;S1702_C03_028M;S1702_C03_029E;S1702_C03_029M;S1702_C03_030E;S1702_C03_030M;S1702_C03_031E;S1702_C03_031M;S1702_C03_032E;S1702_C03_032M;S1702_C03_033E;S1702_C03_033M;S1702_C03_034E;S1702_C03_034M;S1702_C03_035E;S1702_C03_035M;S1702_C03_036E;S1702_C03_036M;S1702_C03_037E;S1702_C03_037M;S1702_C03_038E;S1702_C03_038M;S1702_C03_039E;S1702_C03_039M;S1702_C03_040E;S1702_C03_040M;S1702_C03_041E;S1702_C03_041M;S1702_C03_042E;S1702_C03_042M;S1702_C03_043E;S1702_C03_043M;S1702_C03_044E;S1702_C03_044M;S1702_C03_045E;S1702_C03_045M;S1702_C03_046E;S1702_C03_046M;S1702_C03_047E;S1702_C03_047M;S1702_C03_048E;S1702_C03_048M;S1702_C03_049E;S1702_C03_049M;S1702_C03_050E;S1702_C03_050M;S1702_C04_001E;S1702_C04_001M;S1702_C04_002E;S1702_C04_002M;S1702_C04_003E;S1702_C04_003M;S1702_C04_004E;S1702_C04_004M;S1702_C04_005E;S1702_C04_005M;S1702_C04_006E;S1702_C04_006M;S1702_C04_007E;S1702_C04_007M;S1702_C04_008E;S1702_C04_008M;S1702_C04_009E;S1702_C04_009M;S1702_C04_010E;S1702_C04_010M;S1702_C04_011E;S1702_C04_011M;S1702_C04_012E;S1702_C04_012M;S1702_C04_013E;S1702_C04_013M;S1702_C04_014E;S1702_C04_014M;S1702_C04_015E;S1702_C04_015M;S1702_C04_016E;S1702_C04_016M;S1702_C04_017E;S1702_C04_017M;S1702_C04_018E;S1702_C04_018M;S1702_C04_019E;S1702_C04_019M;S1702_C04_020E;S1702_C04_020M;S1702_C04_021E;S1702_C04_021M;S1702_C04_022E;S1702_C04_022M;S1702_C04_023E;S1702_C04_023M;S1702_C04_024E;S1702_C04_024M;S1702_C04_025E;S1702_C04_025M;S1702_C04_026E;S1702_C04_026M;S1702_C04_027E;S1702_C04_027M;S1702_C04_028E;S1702_C04_028M;S1702_C04_029E;S1702_C04_029M;S1702_C04_030E;S1702_C04_030M;S1702_C04_031E;S1702_C04_031M;S1702_C04_032E;S1702_C04_032M;S1702_C04_033E;S1702_C04_033M;S1702_C04_034E;S1702_C04_034M;S1702_C04_035E;S1702_C04_035M;S1702_C04_036E;S1702_C04_036M;S1702_C04_037E;S1702_C04_037M;S1702_C04_038E;S1702_C04_038M;S1702_C04_039E;S1702_C04_039M;S1702_C04_040E;S1702_C04_040M;S1702_C04_041E;S1702_C04_041M;S1702_C04_042E;S1702_C04_042M;S1702_C04_043E;S1702_C04_043M;S1702_C04_044E;S1702_C04_044M;S1702_C04_045E;S1702_C04_045M;S1702_C04_046E;S1702_C04_046M;S1702_C04_047E;S1702_C04_047M;S1702_C04_048E;S1702_C04_048M;S1702_C04_049E;S1702_C04_049M;S1702_C04_050E;S1702_C04_050M;S1702_C05_001E;S1702_C05_001M;S1702_C05_002E;S1702_C05_002M;S1702_C05_003E;S1702_C05_003M;S1702_C05_004E;S1702_C05_004M;S1702_C05_005E;S1702_C05_005M;S1702_C05_006E;S1702_C05_006M;S1702_C05_007E;S1702_C05_007M;S1702_C05_008E;S1702_C05_008M;S1702_C05_009E;S1702_C05_009M;S1702_C05_010E;S1702_C05_010M;S1702_C05_011E;S1702_C05_011M;S1702_C05_012E;S1702_C05_012M;S1702_C05_013E;S1702_C05_013M;S1702_C05_014E;S1702_C05_014M;S1702_C05_015E;S1702_C05_015M;S1702_C05_016E;S1702_C05_016M;S1702_C05_017E;S1702_C05_017M;S1702_C05_018E;S1702_C05_018M;S1702_C05_019E;S1702_C05_019M;S1702_C05_020E;S1702_C05_020M;S1702_C05_021E;S1702_C05_021M;S1702_C05_022E;S1702_C05_022M;S1702_C05_023E;S1702_C05_023M;S1702_C05_024E;S1702_C05_024M;S1702_C05_025E;S1702_C05_025M;S1702_C05_026E;S1702_C05_026M;S1702_C05_027E;S1702_C05_027M;S1702_C05_028E;S1702_C05_028M;S1702_C05_029E;S1702_C05_029M;S1702_C05_030E;S1702_C05_030M;S1702_C05_031E;S1702_C05_031M;S1702_C05_032E;S1702_C05_032M;S1702_C05_033E;S1702_C05_033M;S1702_C05_034E;S1702_C05_034M;S1702_C05_035E;S1702_C05_035M;S1702_C05_036E;S1702_C05_036M;S1702_C05_037E;S1702_C05_037M;S1702_C05_038E;S1702_C05_038M;S1702_C05_039E;S1702_C05_039M;S1702_C05_040E;S1702_C05_040M;S1702_C05_041E;S1702_C05_041M;S1702_C05_042E;S1702_C05_042M;S1702_C05_043E;S1702_C05_043M;S1702_C05_044E;S1702_C05_044M;S1702_C05_045E;S1702_C05_045M;S1702_C05_046E;S1702_C05_046M;S1702_C05_047E;S1702_C05_047M;S1702_C05_048E;S1702_C05_048M;S1702_C05_049E;S1702_C05_049M;S1702_C05_050E;S1702_C05_050M;S1702_C06_001E;S1702_C06_001M;S1702_C06_002E;S1702_C06_002M;S1702_C06_003E;S1702_C06_003M;S1702_C06_004E;S1702_C06_004M;S1702_C06_005E;S1702_C06_005M;S1702_C06_006E;S1702_C06_006M;S1702_C06_007E;S1702_C06_007M;S1702_C06_008E;S1702_C06_008M;S1702_C06_009E;S1702_C06_009M;S1702_C06_010E;S1702_C06_010M;S1702_C06_011E;S1702_C06_011M;S1702_C06_012E;S1702_C06_012M;S1702_C06_013E;S1702_C06_013M;S1702_C06_014E;S1702_C06_014M;S1702_C06_015E;S1702_C06_015M;S1702_C06_016E;S1702_C06_016M;S1702_C06_017E;S1702_C06_017M;S1702_C06_018E;S1702_C06_018M;S1702_C06_019E;S1702_C06_019M;S1702_C06_020E;S1702_C06_020M;S1702_C06_021E;S1702_C06_021M;S1702_C06_022E;S1702_C06_022M;S1702_C06_023E;S1702_C06_023M;S1702_C06_024E;S1702_C06_024M;S1702_C06_025E;S1702_C06_025M;S1702_C06_026E;S1702_C06_026M;S1702_C06_027E;S1702_C06_027M;S1702_C06_028E;S1702_C06_028M;S1702_C06_029E;S1702_C06_029M;S1702_C06_030E;S1702_C06_030M;S1702_C06_031E;S1702_C06_031M;S1702_C06_032E;S1702_C06_032M;S1702_C06_033E;S1702_C06_033M;S1702_C06_034E;S1702_C06_034M;S1702_C06_035E;S1702_C06_035M;S1702_C06_036E;S1702_C06_036M;S1702_C06_037E;S1702_C06_037M;S1702_C06_038E;S1702_C06_038M;S1702_C06_039E;S1702_C06_039M;S1702_C06_040E;S1702_C06_040M;S1702_C06_041E;S1702_C06_041M;S1702_C06_042E;S1702_C06_042M;S1702_C06_043E;S1702_C06_043M;S1702_C06_044E;S1702_C06_044M;S1702_C06_045E;S1702_C06_045M;S1702_C06_046E;S1702_C06_046M;S1702_C06_047E;S1702_C06_047M;S1702_C06_048E;S1702_C06_048M;S1702_C06_049E;S1702_C06_049M;S1702_C06_050E;S1702_C06_050M'], dtype='object')\n"
     ]
    }
   ],
   "source": [
    "import pandas as pd\n",
    "\n",
    "path = \"/Users/dilagurer/Desktop/poverty.csv\"\n",
    "\n",
    "df = pd.read_csv(path)\n",
    "\n",
    "print(df.columns)\n",
    "\n"
   ]
  },
  {
   "cell_type": "code",
   "execution_count": 3,
   "id": "374939a0-d196-41f6-821f-b9573792e383",
   "metadata": {
    "tags": []
   },
   "outputs": [
    {
     "name": "stdout",
     "output_type": "stream",
     "text": [
      "  STATEFP COUNTYFP  COUNTYNS  GEOID         GEOIDFQ   NAME_x        NAMELSAD  \\\n",
      "0     NaN      NaN       NaN    NaN       Geography      NaN             NaN   \n",
      "1      01      003  00161527  01003  0500000US01003  Baldwin  Baldwin County   \n",
      "2      01      015  00161533  01015  0500000US01015  Calhoun  Calhoun County   \n",
      "3      01      043  00161547  01043  0500000US01043  Cullman  Cullman County   \n",
      "4      01      049  00161550  01049  0500000US01049   DeKalb   DeKalb County   \n",
      "\n",
      "  LSAD CLASSFP  MTFCC  ...                                     S1702_C06_046E  \\\n",
      "0  NaN     NaN    NaN  ...  Estimate!!Percent below poverty level!!Female ...   \n",
      "1   06      H1  G4020  ...                                                (X)   \n",
      "2   06      H1  G4020  ...                                                (X)   \n",
      "3   06      H1  G4020  ...                                                (X)   \n",
      "4   06      H1  G4020  ...                                                (X)   \n",
      "\n",
      "                                      S1702_C06_046M  \\\n",
      "0  Margin of Error!!Percent below poverty level!!...   \n",
      "1                                                (X)   \n",
      "2                                                (X)   \n",
      "3                                                (X)   \n",
      "4                                                (X)   \n",
      "\n",
      "                                      S1702_C06_047E  \\\n",
      "0  Estimate!!Percent below poverty level!!Female ...   \n",
      "1                                                (X)   \n",
      "2                                                (X)   \n",
      "3                                                (X)   \n",
      "4                                                (X)   \n",
      "\n",
      "                                      S1702_C06_047M  \\\n",
      "0  Margin of Error!!Percent below poverty level!!...   \n",
      "1                                                (X)   \n",
      "2                                                (X)   \n",
      "3                                                (X)   \n",
      "4                                                (X)   \n",
      "\n",
      "                                      S1702_C06_048E  \\\n",
      "0  Estimate!!Percent below poverty level!!Female ...   \n",
      "1                                                (X)   \n",
      "2                                                (X)   \n",
      "3                                                (X)   \n",
      "4                                                (X)   \n",
      "\n",
      "                                      S1702_C06_048M  \\\n",
      "0  Margin of Error!!Percent below poverty level!!...   \n",
      "1                                                (X)   \n",
      "2                                                (X)   \n",
      "3                                                (X)   \n",
      "4                                                (X)   \n",
      "\n",
      "                                      S1702_C06_049E  \\\n",
      "0  Estimate!!Percent below poverty level!!Female ...   \n",
      "1                                                (X)   \n",
      "2                                                (X)   \n",
      "3                                                (X)   \n",
      "4                                                (X)   \n",
      "\n",
      "                                      S1702_C06_049M  \\\n",
      "0  Margin of Error!!Percent below poverty level!!...   \n",
      "1                                                (X)   \n",
      "2                                                (X)   \n",
      "3                                                (X)   \n",
      "4                                                (X)   \n",
      "\n",
      "                                      S1702_C06_050E  \\\n",
      "0  Estimate!!Percent below poverty level!!Female ...   \n",
      "1                                                (X)   \n",
      "2                                                (X)   \n",
      "3                                                (X)   \n",
      "4                                                (X)   \n",
      "\n",
      "                                      S1702_C06_050M  \n",
      "0  Margin of Error!!Percent below poverty level!!...  \n",
      "1                                                (X)  \n",
      "2                                                (X)  \n",
      "3                                                (X)  \n",
      "4                                                (X)  \n",
      "\n",
      "[5 rows x 620 columns]\n"
     ]
    }
   ],
   "source": [
    "import pandas as pd\n",
    "import geopandas as gpd\n",
    "\n",
    "csv_path = \"/Users/dilagurer/Desktop/poverty.csv\"\n",
    "csv_df = pd.read_csv(csv_path, delimiter=';')  \n",
    "\n",
    "\n",
    "shp_path = \"/Users/dilagurer/Desktop/tl_2023_us_county (2)\"\n",
    "shp_gdf = gpd.read_file(shp_path)\n",
    "\n",
    "\n",
    "my_merged_data = shp_gdf.merge(csv_df, how='right',on='GEOIDFQ')\n",
    "\n",
    "\n",
    "print(my_merged_data.head())\n"
   ]
  },
  {
   "cell_type": "markdown",
   "id": "aa46390f-b6cb-4be2-b5a5-95a929475b68",
   "metadata": {},
   "source": [
    "above, I merged the shp and csv file based on the common column named GEOIDFQ."
   ]
  },
  {
   "cell_type": "code",
   "execution_count": 4,
   "id": "a11a4113-e0cb-466a-9549-26838ee5e7ae",
   "metadata": {
    "tags": []
   },
   "outputs": [
    {
     "data": {
      "text/plain": [
       "<Axes: >"
      ]
     },
     "execution_count": 4,
     "metadata": {},
     "output_type": "execute_result"
    },
    {
     "data": {
      "image/png": "[encoded data removed]",
      "text/plain": [
       "<Figure size 640x480 with 1 Axes>"
      ]
     },
     "metadata": {},
     "output_type": "display_data"
    }
   ],
   "source": [
    "my_merged_data.plot()\n"
   ]
  },
  {
   "cell_type": "code",
   "execution_count": 67,
   "id": "c54f21cd-4a17-4170-8c7e-e4d73f53699d",
   "metadata": {
    "tags": []
   },
   "outputs": [
    {
     "data": {
      "text/plain": [
       "0      LINESTRING (-96.68493 40.52330, -96.69219 40.5...\n",
       "1      LINESTRING (-96.45339 43.57994, -96.45339 43.5...\n",
       "2      LINESTRING (-83.61191 41.16739, -83.60513 41.1...\n",
       "3      LINESTRING (-84.10959 40.86099, -84.10959 40.8...\n",
       "4      LINESTRING (-89.71636 43.32203, -89.71677 43.3...\n",
       "                             ...                        \n",
       "843    LINESTRING (-82.25533 27.00559, -82.25531 27.0...\n",
       "844    LINESTRING (-71.54481 41.60199, -71.54501 41.6...\n",
       "845    LINESTRING (-73.02371 42.70269, -73.02336 42.7...\n",
       "846    LINESTRING (-84.00834 42.07800, -84.00298 42.0...\n",
       "847    LINESTRING (-90.14883 32.40026, -90.14890 32.4...\n",
       "Length: 848, dtype: geometry"
      ]
     },
     "execution_count": 67,
     "metadata": {},
     "output_type": "execute_result"
    }
   ],
   "source": [
    "my_merged_data.boundary\n"
   ]
  },
  {
   "cell_type": "markdown",
   "id": "ede5ddfa-e87b-4976-99b9-e5a5aa238f0e",
   "metadata": {},
   "source": [
    "QUESTION 2"
   ]
  },
  {
   "cell_type": "code",
   "execution_count": 80,
   "id": "4165a8a1-8c16-4705-9fdd-119e6e38a14d",
   "metadata": {
    "tags": []
   },
   "outputs": [
    {
     "name": "stdout",
     "output_type": "stream",
     "text": [
      "Collecting pysal\n",
      "  Obtaining dependency information for pysal from https://files.pythonhosted.org/packages/5d/7d/2eb9e1250446a62649bd0b8efe44a7da9587b09e609681b29d0ef637fc8c/pysal-24.1-py3-none-any.whl.metadata\n",
      "  Downloading pysal-24.1-py3-none-any.whl.metadata (16 kB)\n",
      "Collecting libpysal>=4.6.2 (from pysal)\n",
      "  Obtaining dependency information for libpysal>=4.6.2 from https://files.pythonhosted.org/packages/6e/bd/0aa03cd034bbe245190d89342b932aa162facd4d5eed4ea3ceab67fad3a4/libpysal-4.10-py3-none-any.whl.metadata\n",
      "  Downloading libpysal-4.10-py3-none-any.whl.metadata (4.8 kB)\n",
      "Collecting access>=1.1.8 (from pysal)\n",
      "  Obtaining dependency information for access>=1.1.8 from https://files.pythonhosted.org/packages/5d/e0/be59a75ad3d0b0fea7f8c6c55439772c4bb791406f3653aa25880ec68d7f/access-1.1.9-py3-none-any.whl.metadata\n",
      "  Downloading access-1.1.9-py3-none-any.whl.metadata (2.4 kB)\n",
      "Collecting esda>=2.4.1 (from pysal)\n",
      "  Obtaining dependency information for esda>=2.4.1 from https://files.pythonhosted.org/packages/ea/e1/6000a61d9a964dbb592db8271232693ef2e341d088c7bdf9393a9a34b658/esda-2.5.1-py3-none-any.whl.metadata\n",
      "  Downloading esda-2.5.1-py3-none-any.whl.metadata (1.8 kB)\n",
      "Collecting giddy>=2.3.3 (from pysal)\n",
      "  Obtaining dependency information for giddy>=2.3.3 from https://files.pythonhosted.org/packages/a2/19/9125c0ec03be4e4345b95c8a8490d4552fb224cb86ed27e0ef2d37d09e06/giddy-2.3.5-py3-none-any.whl.metadata\n",
      "  Downloading giddy-2.3.5-py3-none-any.whl.metadata (6.4 kB)\n",
      "Collecting inequality>=1.0.0 (from pysal)\n",
      "  Obtaining dependency information for inequality>=1.0.0 from https://files.pythonhosted.org/packages/29/70/01825bb1140513493cc0a12e1c736f80006a097ac20661ca87382f3e36a4/inequality-1.0.1-py3-none-any.whl.metadata\n",
      "  Downloading inequality-1.0.1-py3-none-any.whl.metadata (3.3 kB)\n",
      "Collecting pointpats>=2.2.0 (from pysal)\n",
      "  Obtaining dependency information for pointpats>=2.2.0 from https://files.pythonhosted.org/packages/fe/7f/f6d5e24ba1d08a5b4e6b58d2acaed63a3d21966fec33b44b01c3b351924b/pointpats-2.4.0-py3-none-any.whl.metadata\n",
      "  Downloading pointpats-2.4.0-py3-none-any.whl.metadata (4.5 kB)\n",
      "Collecting segregation>=2.3.1 (from pysal)\n",
      "  Obtaining dependency information for segregation>=2.3.1 from https://files.pythonhosted.org/packages/a0/93/5a1e58d5685de2ff904536711c095c7f63ac3e7498710ffdf41c6d172809/segregation-2.5-py3-none-any.whl.metadata\n",
      "  Downloading segregation-2.5-py3-none-any.whl.metadata (2.2 kB)\n",
      "Collecting spaghetti>=1.6.6 (from pysal)\n",
      "  Obtaining dependency information for spaghetti>=1.6.6 from https://files.pythonhosted.org/packages/11/4d/caba72dcd36aa0360a64b46c8977df92c0263c63aa34bfe0ac61d659b7be/spaghetti-1.7.5.post1-py3-none-any.whl.metadata\n",
      "  Downloading spaghetti-1.7.5.post1-py3-none-any.whl.metadata (12 kB)\n",
      "Collecting mgwr>=2.1.2 (from pysal)\n",
      "  Obtaining dependency information for mgwr>=2.1.2 from https://files.pythonhosted.org/packages/4b/e8/464f7fc5f1daf1505211f42619143ad6f7634fda8f35a3758fc08aefc8a8/mgwr-2.2.1-py3-none-any.whl.metadata\n",
      "  Downloading mgwr-2.2.1-py3-none-any.whl.metadata (1.5 kB)\n",
      "Collecting momepy>=0.5.3 (from pysal)\n",
      "  Obtaining dependency information for momepy>=0.5.3 from https://files.pythonhosted.org/packages/85/e0/2a416fa763528fc053745075ef35cfa62297535f7f6034f0ba4f6e116e94/momepy-0.7.0-py3-none-any.whl.metadata\n",
      "  Downloading momepy-0.7.0-py3-none-any.whl.metadata (1.3 kB)\n",
      "Collecting spglm>=1.0.8 (from pysal)\n",
      "  Obtaining dependency information for spglm>=1.0.8 from https://files.pythonhosted.org/packages/04/14/fac87dce2abbd7ee3b3bb3250cc2980388802f8cded9234d8ecb09801534/spglm-1.1.0-py3-none-any.whl.metadata\n",
      "  Downloading spglm-1.1.0-py3-none-any.whl.metadata (3.9 kB)\n",
      "Collecting spint>=1.0.7 (from pysal)\n",
      "  Downloading spint-1.0.7.tar.gz (28 kB)\n",
      "  Preparing metadata (setup.py) ... \u001b[?25ldone\n",
      "\u001b[?25hCollecting spreg>=1.2.4 (from pysal)\n",
      "  Obtaining dependency information for spreg>=1.2.4 from https://files.pythonhosted.org/packages/a5/ed/36ddcd3fe62faf2207008925f9a9d123bdaa630469dbbbc815ff338de99b/spreg-1.4.2-py3-none-any.whl.metadata\n",
      "  Downloading spreg-1.4.2-py3-none-any.whl.metadata (1.7 kB)\n",
      "Collecting spvcm>=0.3.0 (from pysal)\n",
      "  Downloading spvcm-0.3.0.tar.gz (5.7 MB)\n",
      "\u001b[2K     \u001b[90m━━━━━━━━━━━━━━━━━━━━━━━━━━━━━━━━━━━━━━━━\u001b[0m \u001b[32m5.7/5.7 MB\u001b[0m \u001b[31m429.2 kB/s\u001b[0m eta \u001b[36m0:00:00\u001b[0m00:01\u001b[0m00:01\u001b[0m\n",
      "\u001b[?25h  Preparing metadata (setup.py) ... \u001b[?25ldone\n",
      "\u001b[?25hCollecting tobler>=0.8.2 (from pysal)\n",
      "  Obtaining dependency information for tobler>=0.8.2 from https://files.pythonhosted.org/packages/40/8a/40758c311e488597c09fc3265cbbfb11736db1eec46c1972c1401b75402e/tobler-0.11.2-py3-none-any.whl.metadata\n",
      "  Downloading tobler-0.11.2-py3-none-any.whl.metadata (1.9 kB)\n",
      "Collecting mapclassify>=2.4.3 (from pysal)\n",
      "  Obtaining dependency information for mapclassify>=2.4.3 from https://files.pythonhosted.org/packages/3f/f1/8db36df379703311c16e5341b408dad04e34cfded66f38e351c380fbd5ae/mapclassify-2.6.1-py3-none-any.whl.metadata\n",
      "  Downloading mapclassify-2.6.1-py3-none-any.whl.metadata (2.6 kB)\n",
      "Collecting splot>=1.1.5.post1 (from pysal)\n",
      "  Obtaining dependency information for splot>=1.1.5.post1 from https://files.pythonhosted.org/packages/2b/1d/088c7ef6c29f9153da0df211b0cacb6885ae10effd3dbed205b877e69b14/splot-1.1.5.post1-py3-none-any.whl.metadata\n",
      "  Downloading splot-1.1.5.post1-py3-none-any.whl.metadata (8.8 kB)\n",
      "Collecting spopt>=0.4.1 (from pysal)\n",
      "  Obtaining dependency information for spopt>=0.4.1 from https://files.pythonhosted.org/packages/cd/c1/83f786133d476c2f406ce196c598dba394aec76c1338a18800300ba1f7ad/spopt-0.6.0-py3-none-any.whl.metadata\n",
      "  Downloading spopt-0.6.0-py3-none-any.whl.metadata (10 kB)\n",
      "Requirement already satisfied: geopandas in /Users/dilagurer/anaconda3/lib/python3.11/site-packages (from access>=1.1.8->pysal) (0.14.3)\n",
      "Requirement already satisfied: numpy>=1.3 in /Users/dilagurer/anaconda3/lib/python3.11/site-packages (from access>=1.1.8->pysal) (1.24.3)\n",
      "Requirement already satisfied: pandas>=0.23.4 in /Users/dilagurer/anaconda3/lib/python3.11/site-packages (from access>=1.1.8->pysal) (2.0.3)\n",
      "Requirement already satisfied: requests>=2 in /Users/dilagurer/anaconda3/lib/python3.11/site-packages (from access>=1.1.8->pysal) (2.31.0)\n",
      "Requirement already satisfied: scikit-learn>=1.0 in /Users/dilagurer/anaconda3/lib/python3.11/site-packages (from esda>=2.4.1->pysal) (1.3.0)\n",
      "Requirement already satisfied: scipy>=1.9 in /Users/dilagurer/anaconda3/lib/python3.11/site-packages (from esda>=2.4.1->pysal) (1.11.1)\n",
      "Collecting quantecon>=0.4.7 (from giddy>=2.3.3->pysal)\n",
      "  Obtaining dependency information for quantecon>=0.4.7 from https://files.pythonhosted.org/packages/77/1b/75e44bd482abe2e87dcbead8cfd99b8fa6582fdc0906967c34f64abfdf13/quantecon-0.7.2-py3-none-any.whl.metadata\n",
      "  Downloading quantecon-0.7.2-py3-none-any.whl.metadata (4.9 kB)\n",
      "Requirement already satisfied: beautifulsoup4>=4.10 in /Users/dilagurer/anaconda3/lib/python3.11/site-packages (from libpysal>=4.6.2->pysal) (4.12.2)\n",
      "Requirement already satisfied: packaging>=22 in /Users/dilagurer/anaconda3/lib/python3.11/site-packages (from libpysal>=4.6.2->pysal) (23.1)\n",
      "Requirement already satisfied: platformdirs>=2.0.2 in /Users/dilagurer/anaconda3/lib/python3.11/site-packages (from libpysal>=4.6.2->pysal) (3.10.0)\n",
      "Requirement already satisfied: shapely>=2.0.1 in /Users/dilagurer/anaconda3/lib/python3.11/site-packages (from libpysal>=4.6.2->pysal) (2.0.4)\n",
      "Requirement already satisfied: networkx>=2.7 in /Users/dilagurer/anaconda3/lib/python3.11/site-packages (from mapclassify>=2.4.3->pysal) (3.1)\n",
      "Requirement already satisfied: tqdm>=4.63.0 in /Users/dilagurer/anaconda3/lib/python3.11/site-packages (from momepy>=0.5.3->pysal) (4.65.0)\n",
      "Requirement already satisfied: matplotlib in /Users/dilagurer/anaconda3/lib/python3.11/site-packages (from pointpats>=2.2.0->pysal) (3.7.2)\n",
      "Collecting deprecation (from segregation>=2.3.1->pysal)\n",
      "  Obtaining dependency information for deprecation from https://files.pythonhosted.org/packages/02/c3/253a89ee03fc9b9682f1541728eb66db7db22148cd94f89ab22528cd1e1b/deprecation-2.1.0-py2.py3-none-any.whl.metadata\n",
      "  Downloading deprecation-2.1.0-py2.py3-none-any.whl.metadata (4.6 kB)\n",
      "Requirement already satisfied: joblib in /Users/dilagurer/anaconda3/lib/python3.11/site-packages (from segregation>=2.3.1->pysal) (1.2.0)\n",
      "Requirement already satisfied: seaborn in /Users/dilagurer/anaconda3/lib/python3.11/site-packages (from segregation>=2.3.1->pysal) (0.12.2)\n",
      "Requirement already satisfied: numba in /Users/dilagurer/anaconda3/lib/python3.11/site-packages (from segregation>=2.3.1->pysal) (0.57.0)\n",
      "Requirement already satisfied: pyproj>=3 in /Users/dilagurer/anaconda3/lib/python3.11/site-packages (from segregation>=2.3.1->pysal) (3.6.1)\n",
      "Requirement already satisfied: rtree>=1.0 in /Users/dilagurer/anaconda3/lib/python3.11/site-packages (from spaghetti>=1.6.6->pysal) (1.0.1)\n",
      "Collecting pulp>=2.7 (from spopt>=0.4.1->pysal)\n",
      "  Obtaining dependency information for pulp>=2.7 from https://files.pythonhosted.org/packages/09/d7/57e71e11108203039c895643368c0d1a99fe719a6a80184edf240c33d25f/PuLP-2.8.0-py3-none-any.whl.metadata\n",
      "  Downloading PuLP-2.8.0-py3-none-any.whl.metadata (5.4 kB)\n",
      "Collecting rasterio (from tobler>=0.8.2->pysal)\n",
      "  Obtaining dependency information for rasterio from https://files.pythonhosted.org/packages/16/da/b865cb4c588495e09c62a02c77b1c965ef478e329070233ceb0d6c45a4f9/rasterio-1.3.10-cp311-cp311-macosx_10_15_x86_64.whl.metadata\n",
      "  Downloading rasterio-1.3.10-cp311-cp311-macosx_10_15_x86_64.whl.metadata (14 kB)\n",
      "Requirement already satisfied: statsmodels in /Users/dilagurer/anaconda3/lib/python3.11/site-packages (from tobler>=0.8.2->pysal) (0.14.0)\n",
      "Collecting rasterstats (from tobler>=0.8.2->pysal)\n",
      "  Obtaining dependency information for rasterstats from https://files.pythonhosted.org/packages/02/64/ac8b537b3213740e875e0b3d8b8fe97ebf64a592803d44cefc381576c326/rasterstats-0.19.0-py3-none-any.whl.metadata\n",
      "  Downloading rasterstats-0.19.0-py3-none-any.whl.metadata (4.1 kB)\n",
      "Requirement already satisfied: soupsieve>1.2 in /Users/dilagurer/anaconda3/lib/python3.11/site-packages (from beautifulsoup4>=4.10->libpysal>=4.6.2->pysal) (2.4)\n",
      "Requirement already satisfied: fiona>=1.8.21 in /Users/dilagurer/anaconda3/lib/python3.11/site-packages (from geopandas->access>=1.1.8->pysal) (1.9.6)\n",
      "Requirement already satisfied: python-dateutil>=2.8.2 in /Users/dilagurer/anaconda3/lib/python3.11/site-packages (from pandas>=0.23.4->access>=1.1.8->pysal) (2.8.2)\n",
      "Requirement already satisfied: pytz>=2020.1 in /Users/dilagurer/anaconda3/lib/python3.11/site-packages (from pandas>=0.23.4->access>=1.1.8->pysal) (2023.3.post1)\n",
      "Requirement already satisfied: tzdata>=2022.1 in /Users/dilagurer/anaconda3/lib/python3.11/site-packages (from pandas>=0.23.4->access>=1.1.8->pysal) (2023.3)\n",
      "Requirement already satisfied: certifi in /Users/dilagurer/anaconda3/lib/python3.11/site-packages (from pyproj>=3->segregation>=2.3.1->pysal) (2023.7.22)\n",
      "Requirement already satisfied: sympy in /Users/dilagurer/anaconda3/lib/python3.11/site-packages (from quantecon>=0.4.7->giddy>=2.3.3->pysal) (1.11.1)\n",
      "Requirement already satisfied: llvmlite<0.41,>=0.40.0dev0 in /Users/dilagurer/anaconda3/lib/python3.11/site-packages (from numba->segregation>=2.3.1->pysal) (0.40.0)\n",
      "Requirement already satisfied: charset-normalizer<4,>=2 in /Users/dilagurer/anaconda3/lib/python3.11/site-packages (from requests>=2->access>=1.1.8->pysal) (2.0.4)\n",
      "Requirement already satisfied: idna<4,>=2.5 in /Users/dilagurer/anaconda3/lib/python3.11/site-packages (from requests>=2->access>=1.1.8->pysal) (3.4)\n",
      "Requirement already satisfied: urllib3<3,>=1.21.1 in /Users/dilagurer/anaconda3/lib/python3.11/site-packages (from requests>=2->access>=1.1.8->pysal) (1.26.16)\n",
      "Requirement already satisfied: threadpoolctl>=2.0.0 in /Users/dilagurer/anaconda3/lib/python3.11/site-packages (from scikit-learn>=1.0->esda>=2.4.1->pysal) (2.2.0)\n",
      "Requirement already satisfied: contourpy>=1.0.1 in /Users/dilagurer/anaconda3/lib/python3.11/site-packages (from matplotlib->pointpats>=2.2.0->pysal) (1.0.5)\n",
      "Requirement already satisfied: cycler>=0.10 in /Users/dilagurer/anaconda3/lib/python3.11/site-packages (from matplotlib->pointpats>=2.2.0->pysal) (0.11.0)\n",
      "Requirement already satisfied: fonttools>=4.22.0 in /Users/dilagurer/anaconda3/lib/python3.11/site-packages (from matplotlib->pointpats>=2.2.0->pysal) (4.25.0)\n",
      "Requirement already satisfied: kiwisolver>=1.0.1 in /Users/dilagurer/anaconda3/lib/python3.11/site-packages (from matplotlib->pointpats>=2.2.0->pysal) (1.4.4)\n",
      "Requirement already satisfied: pillow>=6.2.0 in /Users/dilagurer/anaconda3/lib/python3.11/site-packages (from matplotlib->pointpats>=2.2.0->pysal) (9.4.0)\n",
      "Requirement already satisfied: pyparsing<3.1,>=2.3.1 in /Users/dilagurer/anaconda3/lib/python3.11/site-packages (from matplotlib->pointpats>=2.2.0->pysal) (3.0.9)\n",
      "Collecting affine (from rasterio->tobler>=0.8.2->pysal)\n",
      "  Obtaining dependency information for affine from https://files.pythonhosted.org/packages/0b/f7/85273299ab57117850cc0a936c64151171fac4da49bc6fba0dad984a7c5f/affine-2.4.0-py3-none-any.whl.metadata\n",
      "  Downloading affine-2.4.0-py3-none-any.whl.metadata (4.0 kB)\n",
      "Requirement already satisfied: attrs in /Users/dilagurer/anaconda3/lib/python3.11/site-packages (from rasterio->tobler>=0.8.2->pysal) (22.1.0)\n",
      "Requirement already satisfied: click>=4.0 in /Users/dilagurer/anaconda3/lib/python3.11/site-packages (from rasterio->tobler>=0.8.2->pysal) (8.0.4)\n",
      "Requirement already satisfied: cligj>=0.5 in /Users/dilagurer/anaconda3/lib/python3.11/site-packages (from rasterio->tobler>=0.8.2->pysal) (0.7.2)\n",
      "Collecting snuggs>=1.4.1 (from rasterio->tobler>=0.8.2->pysal)\n",
      "  Obtaining dependency information for snuggs>=1.4.1 from https://files.pythonhosted.org/packages/cc/0e/d27d6e806d6c0d1a2cfdc5d1f088e42339a0a54a09c3343f7f81ec8947ea/snuggs-1.4.7-py3-none-any.whl.metadata\n",
      "  Downloading snuggs-1.4.7-py3-none-any.whl.metadata (3.4 kB)\n",
      "Requirement already satisfied: click-plugins in /Users/dilagurer/anaconda3/lib/python3.11/site-packages (from rasterio->tobler>=0.8.2->pysal) (1.1.1)\n",
      "Requirement already satisfied: setuptools in /Users/dilagurer/anaconda3/lib/python3.11/site-packages (from rasterio->tobler>=0.8.2->pysal) (68.0.0)\n",
      "Collecting simplejson (from rasterstats->tobler>=0.8.2->pysal)\n",
      "  Obtaining dependency information for simplejson from https://files.pythonhosted.org/packages/bc/eb/2bd4a6ec98329158f6855520596e9f2e521e2239e292d43fe1c58cf83a9b/simplejson-3.19.2-cp311-cp311-macosx_10_9_x86_64.whl.metadata\n",
      "  Downloading simplejson-3.19.2-cp311-cp311-macosx_10_9_x86_64.whl.metadata (3.1 kB)\n",
      "Requirement already satisfied: patsy>=0.5.2 in /Users/dilagurer/anaconda3/lib/python3.11/site-packages (from statsmodels->tobler>=0.8.2->pysal) (0.5.3)\n",
      "Requirement already satisfied: six in /Users/dilagurer/anaconda3/lib/python3.11/site-packages (from fiona>=1.8.21->geopandas->access>=1.1.8->pysal) (1.16.0)\n",
      "Requirement already satisfied: mpmath>=0.19 in /Users/dilagurer/anaconda3/lib/python3.11/site-packages (from sympy->quantecon>=0.4.7->giddy>=2.3.3->pysal) (1.3.0)\n",
      "Downloading pysal-24.1-py3-none-any.whl (17 kB)\n",
      "Downloading access-1.1.9-py3-none-any.whl (21 kB)\n",
      "Downloading esda-2.5.1-py3-none-any.whl (132 kB)\n",
      "\u001b[2K   \u001b[90m━━━━━━━━━━━━━━━━━━━━━━━━━━━━━━━━━━━━━━━\u001b[0m \u001b[32m132.4/132.4 kB\u001b[0m \u001b[31m803.3 kB/s\u001b[0m eta \u001b[36m0:00:00\u001b[0ma \u001b[36m0:00:01\u001b[0m\n",
      "\u001b[?25hDownloading giddy-2.3.5-py3-none-any.whl (61 kB)\n",
      "\u001b[2K   \u001b[90m━━━━━━━━━━━━━━━━━━━━━━━━━━━━━━━━━━━━━━━━\u001b[0m \u001b[32m61.1/61.1 kB\u001b[0m \u001b[31m973.0 kB/s\u001b[0m eta \u001b[36m0:00:00\u001b[0m\u001b[36m0:00:01\u001b[0m\n",
      "\u001b[?25hDownloading inequality-1.0.1-py3-none-any.whl (15 kB)\n",
      "Downloading libpysal-4.10-py3-none-any.whl (2.8 MB)\n",
      "\u001b[2K   \u001b[90m━━━━━━━━━━━━━━━━━━━━━━━━━━━━━━━━━━━━━━━━\u001b[0m \u001b[32m2.8/2.8 MB\u001b[0m \u001b[31m780.3 kB/s\u001b[0m eta \u001b[36m0:00:00\u001b[0m00:01\u001b[0m00:01\u001b[0m\n",
      "\u001b[?25hDownloading mapclassify-2.6.1-py3-none-any.whl (38 kB)\n",
      "Downloading mgwr-2.2.1-py3-none-any.whl (47 kB)\n",
      "\u001b[2K   \u001b[90m━━━━━━━━━━━━━━━━━━━━━━━━━━━━━━━━━━━━━━━━\u001b[0m \u001b[32m47.9/47.9 kB\u001b[0m \u001b[31m748.1 kB/s\u001b[0m eta \u001b[36m0:00:00\u001b[0m\u001b[36m0:00:01\u001b[0m\n",
      "\u001b[?25hDownloading momepy-0.7.0-py3-none-any.whl (277 kB)\n",
      "\u001b[2K   \u001b[90m━━━━━━━━━━━━━━━━━━━━━━━━━━━━━━━━━━━━━━━━\u001b[0m \u001b[32m277.8/277.8 kB\u001b[0m \u001b[31m1.3 MB/s\u001b[0m eta \u001b[36m0:00:00\u001b[0m00:01\u001b[0m00:01\u001b[0m\n",
      "\u001b[?25hDownloading pointpats-2.4.0-py3-none-any.whl (58 kB)\n",
      "\u001b[2K   \u001b[90m━━━━━━━━━━━━━━━━━━━━━━━━━━━━━━━━━━━━━━━━\u001b[0m \u001b[32m58.4/58.4 kB\u001b[0m \u001b[31m940.1 kB/s\u001b[0m eta \u001b[36m0:00:00\u001b[0m\u001b[36m0:00:01\u001b[0m\n",
      "\u001b[?25hDownloading segregation-2.5-py3-none-any.whl (141 kB)\n",
      "\u001b[2K   \u001b[90m━━━━━━━━━━━━━━━━━━━━━━━━━━━━━━━━━━━━━━━\u001b[0m \u001b[32m141.3/141.3 kB\u001b[0m \u001b[31m893.1 kB/s\u001b[0m eta \u001b[36m0:00:00\u001b[0m \u001b[36m0:00:01\u001b[0m\n",
      "\u001b[?25hDownloading spaghetti-1.7.5.post1-py3-none-any.whl (54 kB)\n",
      "\u001b[2K   \u001b[90m━━━━━━━━━━━━━━━━━━━━━━━━━━━━━━━━━━━━━━━━\u001b[0m \u001b[32m54.1/54.1 kB\u001b[0m \u001b[31m676.4 kB/s\u001b[0m eta \u001b[36m0:00:00\u001b[0m\u001b[36m0:00:01\u001b[0m\n",
      "\u001b[?25hDownloading spglm-1.1.0-py3-none-any.whl (41 kB)\n",
      "\u001b[2K   \u001b[90m━━━━━━━━━━━━━━━━━━━━━━━━━━━━━━━━━━━━━━━━\u001b[0m \u001b[32m41.4/41.4 kB\u001b[0m \u001b[31m499.9 kB/s\u001b[0m eta \u001b[36m0:00:00\u001b[0m--:--\u001b[0m\n",
      "\u001b[?25hDownloading splot-1.1.5.post1-py3-none-any.whl (39 kB)\n",
      "Downloading spopt-0.6.0-py3-none-any.whl (244 kB)\n",
      "\u001b[2K   \u001b[90m━━━━━━━━━━━━━━━━━━━━━━━━━━━━━━━━━━━━━━━\u001b[0m \u001b[32m244.5/244.5 kB\u001b[0m \u001b[31m683.8 kB/s\u001b[0m eta \u001b[36m0:00:00\u001b[0ma \u001b[36m0:00:01\u001b[0m\n",
      "\u001b[?25hDownloading spreg-1.4.2-py3-none-any.whl (331 kB)\n",
      "\u001b[2K   \u001b[90m━━━━━━━━━━━━━━━━━━━━━━━━━━━━━━━━━━━━━━━\u001b[0m \u001b[32m331.8/331.8 kB\u001b[0m \u001b[31m774.0 kB/s\u001b[0m eta \u001b[36m0:00:00\u001b[0m00:01\u001b[0m00:01\u001b[0m\n",
      "\u001b[?25hDownloading tobler-0.11.2-py3-none-any.whl (34 kB)\n",
      "Downloading PuLP-2.8.0-py3-none-any.whl (17.7 MB)\n",
      "\u001b[2K   \u001b[90m━━━━━━━━━━━━━━━━━━━━━━━━━━━━━━━━━━━━━━━━\u001b[0m \u001b[32m17.7/17.7 MB\u001b[0m \u001b[31m638.2 kB/s\u001b[0m eta \u001b[36m0:00:00\u001b[0m00:01\u001b[0m00:01\u001b[0m\n",
      "\u001b[?25hDownloading quantecon-0.7.2-py3-none-any.whl (215 kB)\n",
      "\u001b[2K   \u001b[90m━━━━━━━━━━━━━━━━━━━━━━━━━━━━━━━━━━━━━━━\u001b[0m \u001b[32m215.4/215.4 kB\u001b[0m \u001b[31m761.1 kB/s\u001b[0m eta \u001b[36m0:00:00\u001b[0m00:01\u001b[0m00:01\u001b[0m\n",
      "\u001b[?25hDownloading deprecation-2.1.0-py2.py3-none-any.whl (11 kB)\n",
      "Downloading rasterio-1.3.10-cp311-cp311-macosx_10_15_x86_64.whl (20.6 MB)\n",
      "\u001b[2K   \u001b[90m━━━━━━━━━━━━━━━━━━━━━━━━━━━━━━━━━━━━━━━━\u001b[0m \u001b[32m20.6/20.6 MB\u001b[0m \u001b[31m330.2 kB/s\u001b[0m eta \u001b[36m0:00:00\u001b[0m00:01\u001b[0m00:02\u001b[0m\n",
      "\u001b[?25hDownloading rasterstats-0.19.0-py3-none-any.whl (16 kB)\n",
      "Downloading snuggs-1.4.7-py3-none-any.whl (5.4 kB)\n",
      "Downloading affine-2.4.0-py3-none-any.whl (15 kB)\n",
      "Downloading simplejson-3.19.2-cp311-cp311-macosx_10_9_x86_64.whl (75 kB)\n",
      "\u001b[2K   \u001b[90m━━━━━━━━━━━━━━━━━━━━━━━━━━━━━━━━━━━━━━━━\u001b[0m \u001b[32m75.5/75.5 kB\u001b[0m \u001b[31m243.2 kB/s\u001b[0m eta \u001b[36m0:00:00\u001b[0ma \u001b[36m0:00:01\u001b[0m\n",
      "\u001b[?25hBuilding wheels for collected packages: spint, spvcm\n",
      "  Building wheel for spint (setup.py) ... \u001b[?25ldone\n",
      "\u001b[?25h  Created wheel for spint: filename=spint-1.0.7-py3-none-any.whl size=31364 sha256=aba538e9024e67c54730be6a6d65a9ea006c7e4ef62de14db4461ccb28aacfed\n",
      "  Stored in directory: /Users/dilagurer/Library/Caches/pip/wheels/32/dc/2e/400caaa67e697355772a82b77b8c2ac7cd61633f595c477fd8\n",
      "  Building wheel for spvcm (setup.py) ... \u001b[?25ldone\n",
      "\u001b[?25h  Created wheel for spvcm: filename=spvcm-0.3.0-py3-none-any.whl size=5777184 sha256=035b92053a5227c02e35ab1a44346a87a93f06370f82ba8f3b7da19a623f4cb6\n",
      "  Stored in directory: /Users/dilagurer/Library/Caches/pip/wheels/00/d8/fa/0ba85ac19c159fd7e98798829bd73376d8ba6f56cf77b7f8c5\n",
      "Successfully built spint spvcm\n",
      "Installing collected packages: snuggs, simplejson, pulp, deprecation, affine, rasterio, quantecon, rasterstats, mapclassify, libpysal, access, tobler, spreg, segregation, pointpats, momepy, inequality, esda, spvcm, spglm, spaghetti, giddy, spopt, splot, spint, mgwr, pysal\n",
      "Successfully installed access-1.1.9 affine-2.4.0 deprecation-2.1.0 esda-2.5.1 giddy-2.3.5 inequality-1.0.1 libpysal-4.10 mapclassify-2.6.1 mgwr-2.2.1 momepy-0.7.0 pointpats-2.4.0 pulp-2.8.0 pysal-24.1 quantecon-0.7.2 rasterio-1.3.10 rasterstats-0.19.0 segregation-2.5 simplejson-3.19.2 snuggs-1.4.7 spaghetti-1.7.5.post1 spglm-1.1.0 spint-1.0.7 splot-1.1.5.post1 spopt-0.6.0 spreg-1.4.2 spvcm-0.3.0 tobler-0.11.2\n",
      "Note: you may need to restart the kernel to use updated packages.\n"
     ]
    }
   ],
   "source": [
    "pip install pysal\n"
   ]
  },
  {
   "cell_type": "code",
   "execution_count": 82,
   "id": "2a702b76-bde0-4f22-9d62-586594962fe9",
   "metadata": {
    "tags": []
   },
   "outputs": [
    {
     "name": "stdout",
     "output_type": "stream",
     "text": [
      "<libpysal.weights.contiguity.Queen object at 0x15d270690>\n"
     ]
    }
   ],
   "source": [
    "from pysal.lib import weights\n",
    "\n",
    "\n",
    "w = weights.Queen.from_dataframe(my_merged_data, ids=\"GEOIDFQ\")\n",
    "\n",
    "\n",
    "print(w)\n"
   ]
  },
  {
   "cell_type": "code",
   "execution_count": 101,
   "id": "b2c10e5f-c235-414e-b511-c8109f4ccbf7",
   "metadata": {
    "tags": []
   },
   "outputs": [],
   "source": [
    "from libpysal.weights import Queen, Rook, KNN"
   ]
  },
  {
   "cell_type": "code",
   "execution_count": 102,
   "id": "dea323ad-81e1-42bf-b992-d72fa9cde055",
   "metadata": {
    "tags": []
   },
   "outputs": [
    {
     "name": "stdout",
     "output_type": "stream",
     "text": [
      "<libpysal.weights.distance.KNN object at 0x12f3c3a90>\n"
     ]
    },
    {
     "name": "stderr",
     "output_type": "stream",
     "text": [
      "/Users/dilagurer/anaconda3/lib/python3.11/site-packages/libpysal/weights/distance.py:153: UserWarning: The weights matrix is not fully connected: \n",
      " There are 868 disconnected components.\n",
      "  W.__init__(self, neighbors, id_order=ids, **kwargs)\n"
     ]
    }
   ],
   "source": [
    "import libpysal\n",
    "from libpysal.weights import KNN\n",
    "\n",
    "import geopandas as gpd\n",
    "\n",
    "shp_path = \"/Users/dilagurer/Desktop/tl_2023_us_county (2)\"\n",
    "shapefile = gpd.read_file(shp_path)\n",
    "\n",
    "w_knn1 = KNN.from_dataframe(shapefile, k=1)\n",
    "\n",
    "print(w_knn1)\n"
   ]
  },
  {
   "cell_type": "code",
   "execution_count": 103,
   "id": "a7c8f757-9f18-44d0-8152-d768d8bc651a",
   "metadata": {
    "tags": []
   },
   "outputs": [
    {
     "data": {
      "text/plain": [
       "libpysal.weights.distance.KNN"
      ]
     },
     "execution_count": 103,
     "metadata": {},
     "output_type": "execute_result"
    }
   ],
   "source": [
    "type(w_knn1)"
   ]
  },
  {
   "cell_type": "code",
   "execution_count": 104,
   "id": "b79fd091-3a1f-4509-a993-f0c07ea0a270",
   "metadata": {
    "tags": []
   },
   "outputs": [
    {
     "data": {
      "text/plain": [
       "3235"
      ]
     },
     "execution_count": 104,
     "metadata": {},
     "output_type": "execute_result"
    }
   ],
   "source": [
    "len(w_knn1.neighbors)"
   ]
  },
  {
   "cell_type": "code",
   "execution_count": 13,
   "id": "3c51c6a6-12eb-4c1f-ae04-762608b0710c",
   "metadata": {
    "tags": []
   },
   "outputs": [
    {
     "name": "stdout",
     "output_type": "stream",
     "text": [
      "<libpysal.weights.distance.KNN object at 0x105fb01d0>\n",
      "{0: [1194], 1: [171], 2: [1944], 3: [1910], 4: [2488], 5: [1407], 6: [108], 7: [2508], 8: [2175], 9: [2758], 10: [2625], 11: [1260], 12: [1080], 13: [1090], 14: [2323], 15: [2286], 16: [2615], 17: [800], 18: [1816], 19: [820], 20: [924], 21: [2962], 22: [2020], 23: [1766], 24: [143], 25: [1841], 26: [2361], 27: [1702], 28: [996], 29: [1385], 30: [2528], 31: [911], 32: [1417], 33: [2885], 34: [1209], 35: [1191], 36: [3097], 37: [1533], 38: [2127], 39: [2258], 40: [3176], 41: [2587], 42: [1980], 43: [501], 44: [25], 45: [205], 46: [2022], 47: [2315], 48: [2503], 49: [2548], 50: [2776], 51: [192], 52: [1592], 53: [3028], 54: [2500], 55: [196], 56: [2619], 57: [976], 58: [1039], 59: [1473], 60: [2660], 61: [3090], 62: [257], 63: [295], 64: [319], 65: [550], 66: [3126], 67: [533], 68: [2487], 69: [955], 70: [206], 71: [1011], 72: [3119], 73: [2097], 74: [2569], 75: [788], 76: [3035], 77: [978], 78: [1068], 79: [2674], 80: [2568], 81: [1462], 82: [2709], 83: [2666], 84: [473], 85: [2248], 86: [1072], 87: [991], 88: [1195], 89: [2149], 90: [1087], 91: [361], 92: [2712], 93: [640], 94: [2647], 95: [1194], 96: [1475], 97: [39], 98: [704], 99: [2374], 100: [1512], 101: [757], 102: [549], 103: [1870], 104: [15], 105: [2935], 106: [2808], 107: [2664], 108: [2152], 109: [2748], 110: [2222], 111: [1295], 112: [1185], 113: [1536], 114: [2898], 115: [1310], 116: [1619], 117: [2170], 118: [2361], 119: [1721], 120: [2666], 121: [3184], 122: [2842], 123: [318], 124: [832], 125: [2257], 126: [336], 127: [1349], 128: [2898], 129: [1732], 130: [2989], 131: [326], 132: [1184], 133: [671], 134: [2779], 135: [2500], 136: [870], 137: [1584], 138: [3075], 139: [279], 140: [309], 141: [3041], 142: [1842], 143: [227], 144: [3054], 145: [1975], 146: [794], 147: [1007], 148: [2352], 149: [695], 150: [2215], 151: [2587], 152: [114], 153: [1548], 154: [604], 155: [2501], 156: [2290], 157: [1160], 158: [1049], 159: [452], 160: [2590], 161: [715], 162: [1132], 163: [1970], 164: [1219], 165: [3158], 166: [1745], 167: [1719], 168: [1059], 169: [651], 170: [1878], 171: [1], 172: [2306], 173: [2433], 174: [2704], 175: [1783], 176: [1819], 177: [2693], 178: [2740], 179: [1296], 180: [2858], 181: [3077], 182: [654], 183: [2060], 184: [1918], 185: [3217], 186: [362], 187: [612], 188: [332], 189: [1894], 190: [1559], 191: [2850], 192: [51], 193: [1624], 194: [678], 195: [2879], 196: [55], 197: [1487], 198: [226], 199: [1645], 200: [3017], 201: [1047], 202: [277], 203: [2585], 204: [2701], 205: [45], 206: [70], 207: [2752], 208: [1079], 209: [3024], 210: [760], 211: [2103], 212: [1609], 213: [669], 214: [749], 215: [209], 216: [800], 217: [2456], 218: [2710], 219: [641], 220: [1740], 221: [1728], 222: [1524], 223: [1851], 224: [2653], 225: [1068], 226: [1696], 227: [143], 228: [794], 229: [983], 230: [426], 231: [1680], 232: [2313], 233: [456], 234: [2088], 235: [3126], 236: [1870], 237: [2738], 238: [2252], 239: [2425], 240: [167], 241: [663], 242: [2377], 243: [610], 244: [256], 245: [244], 246: [1710], 247: [2393], 248: [3162], 249: [350], 250: [705], 251: [1377], 252: [2296], 253: [1007], 254: [968], 255: [1439], 256: [244], 257: [62], 258: [2613], 259: [1570], 260: [1494], 261: [1473], 262: [2608], 263: [3048], 264: [2613], 265: [1583], 266: [274], 267: [2453], 268: [1479], 269: [1352], 270: [2107], 271: [2644], 272: [1525], 273: [606], 274: [1039], 275: [1965], 276: [2152], 277: [1666], 278: [2365], 279: [139], 280: [446], 281: [1089], 282: [310], 283: [2269], 284: [1972], 285: [847], 286: [2634], 287: [2412], 288: [1792], 289: [1375], 290: [1135], 291: [1277], 292: [2829], 293: [2876], 294: [994], 295: [63], 296: [1335], 297: [989], 298: [1366], 299: [1268], 300: [2698], 301: [1997], 302: [1037], 303: [1428], 304: [2823], 305: [3071], 306: [948], 307: [1228], 308: [1670], 309: [721], 310: [1264], 311: [2773], 312: [2138], 313: [2439], 314: [840], 315: [2465], 316: [2226], 317: [3199], 318: [2777], 319: [64], 320: [1728], 321: [2233], 322: [2547], 323: [605], 324: [2051], 325: [2113], 326: [3081], 327: [28], 328: [393], 329: [1288], 330: [650], 331: [1423], 332: [2325], 333: [1582], 334: [1681], 335: [590], 336: [1711], 337: [2055], 338: [339], 339: [338], 340: [2744], 341: [2157], 342: [981], 343: [2905], 344: [419], 345: [2723], 346: [702], 347: [3194], 348: [411], 349: [923], 350: [926], 351: [851], 352: [388], 353: [2816], 354: [1210], 355: [2432], 356: [2755], 357: [592], 358: [3212], 359: [1029], 360: [2785], 361: [91], 362: [1349], 363: [2980], 364: [2083], 365: [2641], 366: [611], 367: [3044], 368: [273], 369: [282], 370: [2227], 371: [2050], 372: [634], 373: [116], 374: [1644], 375: [1767], 376: [2015], 377: [3120], 378: [214], 379: [953], 380: [2404], 381: [2716], 382: [2652], 383: [405], 384: [402], 385: [445], 386: [1015], 387: [2307], 388: [352], 389: [457], 390: [2854], 391: [2988], 392: [2746], 393: [396], 394: [2555], 395: [2507], 396: [2552], 397: [2389], 398: [866], 399: [188], 400: [678], 401: [422], 402: [2826], 403: [2326], 404: [910], 405: [383], 406: [680], 407: [71], 408: [1773], 409: [2122], 410: [2867], 411: [47], 412: [765], 413: [2063], 414: [432], 415: [2706], 416: [3197], 417: [1493], 418: [862], 419: [2490], 420: [960], 421: [231], 422: [401], 423: [2101], 424: [1502], 425: [2842], 426: [230], 427: [966], 428: [1769], 429: [2429], 430: [2462], 431: [1069], 432: [2575], 433: [2694], 434: [1828], 435: [501], 436: [3194], 437: [2225], 438: [2214], 439: [2523], 440: [2901], 441: [1050], 442: [1298], 443: [1398], 444: [484], 445: [385], 446: [280], 447: [1251], 448: [480], 449: [2041], 450: [918], 451: [1055], 452: [2775], 453: [1602], 454: [673], 455: [2509], 456: [233], 457: [2863], 458: [1717], 459: [909], 460: [880], 461: [1497], 462: [1581], 463: [2589], 464: [157], 465: [1642], 466: [1099], 467: [1597], 468: [2251], 469: [1007], 470: [1329], 471: [1180], 472: [207], 473: [84], 474: [1756], 475: [2267], 476: [2387], 477: [1242], 478: [1072], 479: [2461], 480: [448], 481: [881], 482: [1032], 483: [1286], 484: [444], 485: [1213], 486: [430], 487: [869], 488: [576], 489: [1726], 490: [2640], 491: [2869], 492: [2029], 493: [2800], 494: [2790], 495: [13], 496: [769], 497: [587], 498: [2108], 499: [2599], 500: [1215], 501: [435], 502: [1820], 503: [1038], 504: [2165], 505: [2794], 506: [618], 507: [2329], 508: [1282], 509: [3052], 510: [2260], 511: [2809], 512: [1523], 513: [2231], 514: [3178], 515: [1121], 516: [1374], 517: [767], 518: [27], 519: [1915], 520: [1271], 521: [2591], 522: [1700], 523: [2934], 524: [2274], 525: [599], 526: [3190], 527: [2542], 528: [2596], 529: [2573], 530: [1501], 531: [1452], 532: [2656], 533: [67], 534: [2583], 535: [1396], 536: [752], 537: [1827], 538: [1625], 539: [1905], 540: [1331], 541: [1406], 542: [1891], 543: [1518], 544: [2595], 545: [2839], 546: [893], 547: [916], 548: [1765], 549: [102], 550: [1973], 551: [2175], 552: [2837], 553: [1260], 554: [2963], 555: [1764], 556: [1764], 557: [764], 558: [2605], 559: [2033], 560: [2905], 561: [2272], 562: [319], 563: [394], 564: [1725], 565: [3065], 566: [1948], 567: [1047], 568: [1071], 569: [1362], 570: [2673], 571: [3177], 572: [834], 573: [1790], 574: [2538], 575: [1630], 576: [488], 577: [2026], 578: [940], 579: [342], 580: [2933], 581: [2928], 582: [2930], 583: [2047], 584: [2526], 585: [479], 586: [1539], 587: [497], 588: [2065], 589: [1432], 590: [2745], 591: [233], 592: [2157], 593: [2968], 594: [2316], 595: [597], 596: [1787], 597: [595], 598: [211], 599: [525], 600: [727], 601: [2028], 602: [603], 603: [602], 604: [1203], 605: [323], 606: [273], 607: [3158], 608: [2733], 609: [2484], 610: [1272], 611: [366], 612: [1284], 613: [818], 614: [1073], 615: [701], 616: [2260], 617: [2135], 618: [506], 619: [2757], 620: [3071], 621: [2421], 622: [2422], 623: [691], 624: [864], 625: [2349], 626: [524], 627: [1015], 628: [280], 629: [1507], 630: [1479], 631: [636], 632: [1911], 633: [1916], 634: [372], 635: [673], 636: [2994], 637: [1881], 638: [1782], 639: [3218], 640: [2965], 641: [1657], 642: [2956], 643: [2474], 644: [1423], 645: [2773], 646: [1206], 647: [812], 648: [2907], 649: [1787], 650: [330], 651: [2975], 652: [1727], 653: [3083], 654: [182], 655: [1045], 656: [2344], 657: [3186], 658: [2342], 659: [2056], 660: [2041], 661: [1332], 662: [3112], 663: [2173], 664: [2874], 665: [2655], 666: [2661], 667: [2416], 668: [429], 669: [1129], 670: [1087], 671: [133], 672: [2379], 673: [635], 674: [959], 675: [2835], 676: [1810], 677: [325], 678: [194], 679: [1602], 680: [406], 681: [2852], 682: [3049], 683: [953], 684: [1938], 685: [2148], 686: [885], 687: [1916], 688: [3187], 689: [2526], 690: [748], 691: [623], 692: [3190], 693: [1101], 694: [1764], 695: [2648], 696: [1752], 697: [2685], 698: [1213], 699: [229], 700: [1070], 701: [1151], 702: [346], 703: [1636], 704: [98], 705: [250], 706: [2913], 707: [2470], 708: [1259], 709: [2824], 710: [1479], 711: [2213], 712: [3175], 713: [1922], 714: [1371], 715: [161], 716: [1886], 717: [1069], 718: [1419], 719: [2782], 720: [2194], 721: [2930], 722: [1367], 723: [3180], 724: [3094], 725: [2509], 726: [1360], 727: [600], 728: [680], 729: [2677], 730: [2763], 731: [1616], 732: [1062], 733: [831], 734: [3046], 735: [2291], 736: [2612], 737: [1114], 738: [3030], 739: [2219], 740: [1579], 741: [1056], 742: [1743], 743: [605], 744: [2253], 745: [2938], 746: [1986], 747: [1933], 748: [690], 749: [931], 750: [1262], 751: [85], 752: [908], 753: [2732], 754: [1140], 755: [1205], 756: [2411], 757: [101], 758: [195], 759: [2633], 760: [607], 761: [2973], 762: [594], 763: [2085], 764: [1672], 765: [412], 766: [1942], 767: [1921], 768: [1141], 769: [1755], 770: [2667], 771: [3082], 772: [1913], 773: [168], 774: [1755], 775: [754], 776: [1579], 777: [1955], 778: [734], 779: [3068], 780: [902], 781: [2781], 782: [2004], 783: [1886], 784: [1506], 785: [788], 786: [788], 787: [254], 788: [786], 789: [3089], 790: [1889], 791: [2279], 792: [2417], 793: [2574], 794: [146], 795: [1427], 796: [352], 797: [863], 798: [889], 799: [2214], 800: [216], 801: [1482], 802: [2119], 803: [821], 804: [836], 805: [3199], 806: [1273], 807: [806], 808: [2436], 809: [1882], 810: [2402], 811: [2201], 812: [647], 813: [2359], 814: [1388], 815: [2300], 816: [3212], 817: [1698], 818: [613], 819: [1162], 820: [2171], 821: [803], 822: [374], 823: [1659], 824: [1189], 825: [327], 826: [827], 827: [826], 828: [1251], 829: [2288], 830: [1160], 831: [733], 832: [3025], 833: [1427], 834: [19], 835: [2472], 836: [1851], 837: [2174], 838: [753], 839: [1738], 840: [314], 841: [161], 842: [2384], 843: [2696], 844: [1959], 845: [2609], 846: [940], 847: [285], 848: [1795], 849: [404], 850: [827], 851: [351], 852: [2989], 853: [1451], 854: [2027], 855: [3179], 856: [941], 857: [1356], 858: [2199], 859: [991], 860: [2844], 861: [1058], 862: [165], 863: [797], 864: [624], 865: [1298], 866: [398], 867: [1012], 868: [2204], 869: [487], 870: [136], 871: [1273], 872: [2006], 873: [1754], 874: [1350], 875: [1282], 876: [3098], 877: [2005], 878: [807], 879: [1862], 880: [460], 881: [481], 882: [1240], 883: [818], 884: [2679], 885: [686], 886: [1173], 887: [2889], 888: [1201], 889: [798], 890: [1917], 891: [1085], 892: [1809], 893: [546], 894: [2595], 895: [2574], 896: [920], 897: [2450], 898: [1422], 899: [2863], 900: [2269], 901: [2118], 902: [780], 903: [3006], 904: [1144], 905: [2499], 906: [1623], 907: [2332], 908: [752], 909: [279], 910: [404], 911: [2186], 912: [211], 913: [2732], 914: [2399], 915: [1043], 916: [547], 917: [2010], 918: [450], 919: [620], 920: [896], 921: [768], 922: [2120], 923: [349], 924: [2571], 925: [1830], 926: [350], 927: [3204], 928: [1144], 929: [2415], 930: [2231], 931: [370], 932: [631], 933: [2769], 934: [957], 935: [2505], 936: [2483], 937: [27], 938: [1321], 939: [1663], 940: [578], 941: [856], 942: [203], 943: [341], 944: [1055], 945: [2440], 946: [1032], 947: [1781], 948: [306], 949: [1323], 950: [1648], 951: [1426], 952: [1612], 953: [683], 954: [2542], 955: [2130], 956: [2832], 957: [934], 958: [3116], 959: [674], 960: [1224], 961: [3079], 962: [1593], 963: [2810], 964: [1776], 965: [2991], 966: [427], 967: [1941], 968: [254], 969: [1779], 970: [2162], 971: [687], 972: [2139], 973: [645], 974: [2121], 975: [971], 976: [57], 977: [63], 978: [77], 979: [2763], 980: [2927], 981: [2348], 982: [2941], 983: [229], 984: [2430], 985: [2106], 986: [1842], 987: [2643], 988: [1652], 989: [297], 990: [2838], 991: [87], 992: [1605], 993: [2817], 994: [294], 995: [2973], 996: [2094], 997: [1088], 998: [3107], 999: [1130], 1000: [3009], 1001: [3088], 1002: [2026], 1003: [834], 1004: [3106], 1005: [2969], 1006: [386], 1007: [469], 1008: [1431], 1009: [343], 1010: [2520], 1011: [71], 1012: [867], 1013: [2333], 1014: [1055], 1015: [1436], 1016: [1862], 1017: [2106], 1018: [1925], 1019: [774], 1020: [1254], 1021: [799], 1022: [2802], 1023: [182], 1024: [2536], 1025: [1656], 1026: [3169], 1027: [2328], 1028: [1934], 1029: [1733], 1030: [2452], 1031: [2268], 1032: [946], 1033: [1807], 1034: [3117], 1035: [1693], 1036: [2249], 1037: [1967], 1038: [1414], 1039: [274], 1040: [17], 1041: [1314], 1042: [2622], 1043: [2917], 1044: [907], 1045: [655], 1046: [2281], 1047: [567], 1048: [814], 1049: [158], 1050: [441], 1051: [684], 1052: [2528], 1053: [1908], 1054: [2653], 1055: [944], 1056: [1127], 1057: [1874], 1058: [2126], 1059: [168], 1060: [1766], 1061: [1036], 1062: [732], 1063: [3217], 1064: [2741], 1065: [993], 1066: [256], 1067: [2983], 1068: [225], 1069: [431], 1070: [700], 1071: [3216], 1072: [86], 1073: [614], 1074: [2916], 1075: [1921], 1076: [2371], 1077: [2828], 1078: [3111], 1079: [208], 1080: [12], 1081: [3135], 1082: [2287], 1083: [2348], 1084: [2251], 1085: [2322], 1086: [2761], 1087: [670], 1088: [997], 1089: [281], 1090: [2600], 1091: [2049], 1092: [162], 1093: [2211], 1094: [2477], 1095: [2857], 1096: [1516], 1097: [1275], 1098: [1443], 1099: [2438], 1100: [2787], 1101: [693], 1102: [875], 1103: [1278], 1104: [3103], 1105: [1106], 1106: [802], 1107: [1421], 1108: [1625], 1109: [2994], 1110: [3017], 1111: [2012], 1112: [1672], 1113: [2856], 1114: [737], 1115: [2698], 1116: [2383], 1117: [1877], 1118: [1082], 1119: [1434], 1120: [1316], 1121: [1376], 1122: [3075], 1123: [2658], 1124: [757], 1125: [1163], 1126: [2161], 1127: [2098], 1128: [2681], 1129: [669], 1130: [2408], 1131: [2836], 1132: [2494], 1133: [1633], 1134: [2173], 1135: [3077], 1136: [1263], 1137: [1960], 1138: [2289], 1139: [2203], 1140: [2150], 1141: [768], 1142: [1263], 1143: [3077], 1144: [928], 1145: [2049], 1146: [2926], 1147: [1732], 1148: [2915], 1149: [685], 1150: [515], 1151: [701], 1152: [206], 1153: [1309], 1154: [2771], 1155: [1900], 1156: [1730], 1157: [3113], 1158: [2000], 1159: [2155], 1160: [830], 1161: [3071], 1162: [819], 1163: [1125], 1164: [2581], 1165: [885], 1166: [2045], 1167: [2205], 1168: [1169], 1169: [1799], 1170: [2346], 1171: [3033], 1172: [1749], 1173: [886], 1174: [2760], 1175: [2834], 1176: [938], 1177: [251], 1178: [197], 1179: [2977], 1180: [471], 1181: [2669], 1182: [2831], 1183: [2940], 1184: [1231], 1185: [112], 1186: [450], 1187: [2540], 1188: [1710], 1189: [824], 1190: [2332], 1191: [1359], 1192: [1857], 1193: [2084], 1194: [95], 1195: [2826], 1196: [937], 1197: [1525], 1198: [1301], 1199: [2182], 1200: [1430], 1201: [1778], 1202: [2589], 1203: [604], 1204: [45], 1205: [755], 1206: [646], 1207: [2785], 1208: [1504], 1209: [385], 1210: [354], 1211: [101], 1212: [3094], 1213: [698], 1214: [1871], 1215: [1659], 1216: [2255], 1217: [1328], 1218: [3000], 1219: [164], 1220: [624], 1221: [2204], 1222: [2179], 1223: [67], 1224: [960], 1225: [3148], 1226: [1974], 1227: [2687], 1228: [307], 1229: [222], 1230: [2594], 1231: [1184], 1232: [351], 1233: [1472], 1234: [478], 1235: [1715], 1236: [1856], 1237: [908], 1238: [3151], 1239: [2294], 1240: [2551], 1241: [637], 1242: [477], 1243: [2684], 1244: [1462], 1245: [1416], 1246: [453], 1247: [1921], 1248: [2729], 1249: [2708], 1250: [2746], 1251: [447], 1252: [3134], 1253: [2628], 1254: [1020], 1255: [2469], 1256: [1964], 1257: [2408], 1258: [2562], 1259: [708], 1260: [553], 1261: [159], 1262: [750], 1263: [1136], 1264: [2074], 1265: [1696], 1266: [2928], 1267: [1300], 1268: [2850], 1269: [1722], 1270: [1715], 1271: [1881], 1272: [2533], 1273: [871], 1274: [1850], 1275: [1097], 1276: [2957], 1277: [2714], 1278: [734], 1279: [692], 1280: [2395], 1281: [2816], 1282: [875], 1283: [1383], 1284: [612], 1285: [3132], 1286: [3001], 1287: [3156], 1288: [3159], 1289: [2128], 1290: [996], 1291: [2549], 1292: [3002], 1293: [2550], 1294: [2642], 1295: [3014], 1296: [179], 1297: [1254], 1298: [865], 1299: [2807], 1300: [1267], 1301: [2239], 1302: [2447], 1303: [1701], 1304: [2077], 1305: [2426], 1306: [2050], 1307: [1200], 1308: [3202], 1309: [1153], 1310: [115], 1311: [26], 1312: [997], 1313: [2198], 1314: [1363], 1315: [1507], 1316: [444], 1317: [306], 1318: [3152], 1319: [3090], 1320: [1984], 1321: [938], 1322: [2022], 1323: [3109], 1324: [871], 1325: [1137], 1326: [601], 1327: [3057], 1328: [1217], 1329: [2397], 1330: [524], 1331: [3023], 1332: [661], 1333: [2890], 1334: [2776], 1335: [296], 1336: [3213], 1337: [1930], 1338: [149], 1339: [1726], 1340: [3087], 1341: [2446], 1342: [3056], 1343: [701], 1344: [2900], 1345: [2277], 1346: [2996], 1347: [2369], 1348: [2807], 1349: [362], 1350: [874], 1351: [1527], 1352: [269], 1353: [2717], 1354: [2569], 1355: [2705], 1356: [857], 1357: [630], 1358: [2221], 1359: [1191], 1360: [726], 1361: [1137], 1362: [2441], 1363: [1314], 1364: [91], 1365: [674], 1366: [298], 1367: [722], 1368: [551], 1369: [2338], 1370: [2838], 1371: [714], 1372: [1165], 1373: [2435], 1374: [1742], 1375: [289], 1376: [3120], 1377: [251], 1378: [2578], 1379: [1453], 1380: [853], 1381: [2566], 1382: [3185], 1383: [1283], 1384: [2884], 1385: [2896], 1386: [1649], 1387: [2791], 1388: [1477], 1389: [578], 1390: [369], 1391: [1342], 1392: [976], 1393: [1400], 1394: [1398], 1395: [1398], 1396: [1399], 1397: [1395], 1398: [1395], 1399: [1396], 1400: [1393], 1401: [1341], 1402: [1981], 1403: [903], 1404: [2360], 1405: [278], 1406: [541], 1407: [5], 1408: [1157], 1409: [2422], 1410: [3098], 1411: [2604], 1412: [1523], 1413: [2841], 1414: [1620], 1415: [1705], 1416: [1245], 1417: [1110], 1418: [2555], 1419: [1353], 1420: [2783], 1421: [1107], 1422: [898], 1423: [331], 1424: [1785], 1425: [1152], 1426: [3050], 1427: [795], 1428: [1733], 1429: [1324], 1430: [2493], 1431: [1723], 1432: [589], 1433: [105], 1434: [2851], 1435: [1276], 1436: [1015], 1437: [497], 1438: [2569], 1439: [255], 1440: [204], 1441: [1945], 1442: [773], 1443: [2324], 1444: [2882], 1445: [2427], 1446: [2381], 1447: [3196], 1448: [814], 1449: [1763], 1450: [3051], 1451: [2436], 1452: [531], 1453: [1651], 1454: [2822], 1455: [2273], 1456: [3189], 1457: [3198], 1458: [2635], 1459: [1252], 1460: [1366], 1461: [1671], 1462: [81], 1463: [974], 1464: [2383], 1465: [1796], 1466: [2154], 1467: [3043], 1468: [2604], 1469: [2982], 1470: [226], 1471: [1027], 1472: [1683], 1473: [261], 1474: [1644], 1475: [2598], 1476: [1931], 1477: [710], 1478: [2996], 1479: [268], 1480: [2650], 1481: [1953], 1482: [801], 1483: [2066], 1484: [2685], 1485: [1509], 1486: [340], 1487: [2855], 1488: [2269], 1489: [2711], 1490: [69], 1491: [738], 1492: [3191], 1493: [1904], 1494: [260], 1495: [2762], 1496: [2752], 1497: [1821], 1498: [446], 1499: [3061], 1500: [1794], 1501: [2768], 1502: [424], 1503: [2054], 1504: [1208], 1505: [3030], 1506: [2595], 1507: [629], 1508: [2637], 1509: [2875], 1510: [449], 1511: [1798], 1512: [1603], 1513: [2830], 1514: [176], 1515: [2037], 1516: [1096], 1517: [2278], 1518: [1131], 1519: [2968], 1520: [2842], 1521: [737], 1522: [2795], 1523: [3233], 1524: [222], 1525: [1197], 1526: [1613], 1527: [1351], 1528: [2694], 1529: [3228], 1530: [723], 1531: [2047], 1532: [2948], 1533: [3020], 1534: [770], 1535: [783], 1536: [113], 1537: [2781], 1538: [2534], 1539: [245], 1540: [660], 1541: [1522], 1542: [2567], 1543: [204], 1544: [1792], 1545: [1265], 1546: [2058], 1547: [2536], 1548: [153], 1549: [2967], 1550: [1086], 1551: [2857], 1552: [3069], 1553: [1524], 1554: [2960], 1555: [2840], 1556: [1708], 1557: [1049], 1558: [2129], 1559: [190], 1560: [2351], 1561: [467], 1562: [1584], 1563: [2165], 1564: [1996], 1565: [3099], 1566: [1256], 1567: [1720], 1568: [1662], 1569: [1034], 1570: [259], 1571: [3073], 1572: [1784], 1573: [720], 1574: [3001], 1575: [1278], 1576: [2987], 1577: [1939], 1578: [2741], 1579: [740], 1580: [732], 1581: [462], 1582: [333], 1583: [1898], 1584: [137], 1585: [3134], 1586: [1189], 1587: [1871], 1588: [2418], 1589: [2085], 1590: [3091], 1591: [2498], 1592: [52], 1593: [1793], 1594: [3081], 1595: [78], 1596: [3061], 1597: [467], 1598: [736], 1599: [498], 1600: [3022], 1601: [2545], 1602: [2910], 1603: [683], 1604: [1401], 1605: [2035], 1606: [2358], 1607: [460], 1608: [2300], 1609: [212], 1610: [1019], 1611: [2292], 1612: [952], 1613: [2925], 1614: [1698], 1615: [3147], 1616: [731], 1617: [2834], 1618: [136], 1619: [116], 1620: [1414], 1621: [3127], 1622: [2202], 1623: [1483], 1624: [193], 1625: [2561], 1626: [2837], 1627: [2566], 1628: [1810], 1629: [2067], 1630: [575], 1631: [2417], 1632: [1704], 1633: [1133], 1634: [2363], 1635: [1360], 1636: [3037], 1637: [2778], 1638: [1647], 1639: [287], 1640: [3213], 1641: [298], 1642: [465], 1643: [1992], 1644: [1474], 1645: [3203], 1646: [2364], 1647: [1897], 1648: [950], 1649: [2797], 1650: [2430], 1651: [1453], 1652: [988], 1653: [1408], 1654: [2546], 1655: [2414], 1656: [2749], 1657: [2420], 1658: [2657], 1659: [1215], 1660: [1722], 1661: [668], 1662: [1775], 1663: [594], 1664: [997], 1665: [3208], 1666: [2844], 1667: [2305], 1668: [3033], 1669: [2867], 1670: [308], 1671: [1461], 1672: [1112], 1673: [250], 1674: [1753], 1675: [2672], 1676: [2252], 1677: [2949], 1678: [1471], 1679: [168], 1680: [2139], 1681: [2849], 1682: [3117], 1683: [1472], 1684: [3183], 1685: [158], 1686: [1967], 1687: [104], 1688: [423], 1689: [1491], 1690: [830], 1691: [2303], 1692: [2477], 1693: [1035], 1694: [3141], 1695: [1180], 1696: [226], 1697: [1161], 1698: [1614], 1699: [3047], 1700: [522], 1701: [2939], 1702: [27], 1703: [2226], 1704: [1632], 1705: [1415], 1706: [564], 1707: [1911], 1708: [1556], 1709: [3107], 1710: [246], 1711: [336], 1712: [1788], 1713: [2115], 1714: [948], 1715: [1235], 1716: [2863], 1717: [458], 1718: [1761], 1719: [167], 1720: [1567], 1721: [2847], 1722: [1660], 1723: [1431], 1724: [672], 1725: [564], 1726: [489], 1727: [2806], 1728: [221], 1729: [3174], 1730: [1752], 1731: [404], 1732: [1966], 1733: [1029], 1734: [836], 1735: [987], 1736: [1370], 1737: [2676], 1738: [2923], 1739: [3002], 1740: [2270], 1741: [912], 1742: [2256], 1743: [742], 1744: [3173], 1745: [166], 1746: [1167], 1747: [1467], 1748: [3218], 1749: [1172], 1750: [3149], 1751: [3144], 1752: [696], 1753: [1674], 1754: [873], 1755: [774], 1756: [474], 1757: [1666], 1758: [2454], 1759: [1198], 1760: [65], 1761: [2261], 1762: [2950], 1763: [1449], 1764: [556], 1765: [1766], 1766: [23], 1767: [2556], 1768: [229], 1769: [428], 1770: [2539], 1771: [1537], 1772: [729], 1773: [1439], 1774: [3080], 1775: [1662], 1776: [2092], 1777: [3207], 1778: [969], 1779: [2263], 1780: [1412], 1781: [947], 1782: [2372], 1783: [175], 1784: [941], 1785: [1424], 1786: [2387], 1787: [2360], 1788: [1712], 1789: [3226], 1790: [1895], 1791: [1992], 1792: [2616], 1793: [1593], 1794: [1500], 1795: [848], 1796: [2188], 1797: [1880], 1798: [1704], 1799: [1169], 1800: [2065], 1801: [3119], 1802: [2362], 1803: [2570], 1804: [2946], 1805: [2726], 1806: [2192], 1807: [1033], 1808: [737], 1809: [709], 1810: [676], 1811: [2072], 1812: [1591], 1813: [121], 1814: [2405], 1815: [1807], 1816: [2000], 1817: [3018], 1818: [1959], 1819: [2792], 1820: [502], 1821: [1497], 1822: [2804], 1823: [2614], 1824: [1109], 1825: [2347], 1826: [1888], 1827: [1938], 1828: [434], 1829: [2199], 1830: [3171], 1831: [3177], 1832: [865], 1833: [460], 1834: [1963], 1835: [2470], 1836: [1083], 1837: [2644], 1838: [1351], 1839: [2635], 1840: [2038], 1841: [25], 1842: [986], 1843: [2939], 1844: [2259], 1845: [606], 1846: [2167], 1847: [581], 1848: [2695], 1849: [2116], 1850: [2334], 1851: [223], 1852: [491], 1853: [1114], 1854: [2486], 1855: [2612], 1856: [1236], 1857: [2367], 1858: [3068], 1859: [616], 1860: [1879], 1861: [2905], 1862: [2344], 1863: [156], 1864: [2324], 1865: [2273], 1866: [2012], 1867: [2843], 1868: [2355], 1869: [1290], 1870: [103], 1871: [1587], 1872: [2160], 1873: [1037], 1874: [1057], 1875: [983], 1876: [2560], 1877: [189], 1878: [604], 1879: [727], 1880: [1797], 1881: [637], 1882: [3081], 1883: [365], 1884: [476], 1885: [2568], 1886: [716], 1887: [1960], 1888: [2298], 1889: [2858], 1890: [2868], 1891: [2153], 1892: [3156], 1893: [1499], 1894: [189], 1895: [1790], 1896: [1860], 1897: [1647], 1898: [1583], 1899: [3226], 1900: [1155], 1901: [3108], 1902: [2941], 1903: [2696], 1904: [2710], 1905: [2364], 1906: [3033], 1907: [3222], 1908: [1053], 1909: [1261], 1910: [2212], 1911: [632], 1912: [3051], 1913: [1791], 1914: [2127], 1915: [519], 1916: [633], 1917: [3135], 1918: [3209], 1919: [1118], 1920: [1718], 1921: [1075], 1922: [713], 1923: [2631], 1924: [1927], 1925: [1018], 1926: [3196], 1927: [1924], 1928: [2991], 1929: [688], 1930: [2639], 1931: [1821], 1932: [2034], 1933: [174], 1934: [247], 1935: [1002], 1936: [3115], 1937: [2143], 1938: [684], 1939: [1577], 1940: [179], 1941: [2406], 1942: [3086], 1943: [223], 1944: [447], 1945: [2866], 1946: [2314], 1947: [3026], 1948: [566], 1949: [3200], 1950: [2504], 1951: [2859], 1952: [336], 1953: [3142], 1954: [1730], 1955: [3141], 1956: [3004], 1957: [163], 1958: [583], 1959: [1818], 1960: [1137], 1961: [2877], 1962: [576], 1963: [2255], 1964: [1256], 1965: [275], 1966: [1990], 1967: [1037], 1968: [3078], 1969: [7], 1970: [163], 1971: [533], 1972: [1973], 1973: [550], 1974: [1226], 1975: [2080], 1976: [2821], 1977: [3105], 1978: [2981], 1979: [2914], 1980: [42], 1981: [1237], 1982: [2164], 1983: [3166], 1984: [1320], 1985: [1089], 1986: [746], 1987: [95], 1988: [654], 1989: [297], 1990: [1966], 1991: [1547], 1992: [1791], 1993: [2183], 1994: [2040], 1995: [2537], 1996: [2079], 1997: [301], 1998: [1445], 1999: [1565], 2000: [1158], 2001: [1504], 2002: [774], 2003: [1624], 2004: [2817], 2005: [2750], 2006: [2309], 2007: [1993], 2008: [1964], 2009: [2425], 2010: [917], 2011: [2860], 2012: [1866], 2013: [1110], 2014: [1853], 2015: [376], 2016: [2655], 2017: [2045], 2018: [480], 2019: [3022], 2020: [2812], 2021: [3140], 2022: [1322], 2023: [3070], 2024: [2924], 2025: [1084], 2026: [546], 2027: [854], 2028: [601], 2029: [2675], 2030: [2482], 2031: [675], 2032: [3034], 2033: [559], 2034: [1932], 2035: [1605], 2036: [1708], 2037: [1515], 2038: [2551], 2039: [1], 2040: [1994], 2041: [2663], 2042: [1455], 2043: [709], 2044: [1587], 2045: [1166], 2046: [2229], 2047: [583], 2048: [1088], 2049: [1145], 2050: [371], 2051: [2434], 2052: [639], 2053: [2506], 2054: [1503], 2055: [337], 2056: [659], 2057: [2285], 2058: [1546], 2059: [2112], 2060: [1875], 2061: [1968], 2062: [3182], 2063: [413], 2064: [1798], 2065: [588], 2066: [1483], 2067: [880], 2068: [2873], 2069: [2827], 2070: [2404], 2071: [233], 2072: [1811], 2073: [2825], 2074: [1264], 2075: [1825], 2076: [6], 2077: [1304], 2078: [2242], 2079: [1996], 2080: [1797], 2081: [2190], 2082: [2702], 2083: [2082], 2084: [1193], 2085: [1053], 2086: [388], 2087: [2675], 2088: [234], 2089: [2339], 2090: [3089], 2091: [2964], 2092: [1776], 2093: [2529], 2094: [996], 2095: [2338], 2096: [1421], 2097: [73], 2098: [1127], 2099: [2344], 2100: [1258], 2101: [200], 2102: [1559], 2103: [211], 2104: [1447], 2105: [2866], 2106: [2282], 2107: [270], 2108: [2658], 2109: [2924], 2110: [1212], 2111: [2603], 2112: [2059], 2113: [325], 2114: [1869], 2115: [2544], 2116: [2485], 2117: [2450], 2118: [858], 2119: [802], 2120: [3032], 2121: [974], 2122: [2716], 2123: [2998], 2124: [2400], 2125: [274], 2126: [2972], 2127: [2610], 2128: [1289], 2129: [1558], 2130: [955], 2131: [2699], 2132: [2377], 2133: [2711], 2134: [3180], 2135: [617], 2136: [371], 2137: [1820], 2138: [312], 2139: [972], 2140: [3173], 2141: [2512], 2142: [589], 2143: [2142], 2144: [2860], 2145: [2937], 2146: [1040], 2147: [2677], 2148: [2308], 2149: [1726], 2150: [1140], 2151: [571], 2152: [108], 2153: [2846], 2154: [2542], 2155: [1159], 2156: [2998], 2157: [592], 2158: [978], 2159: [2346], 2160: [1872], 2161: [1126], 2162: [970], 2163: [29], 2164: [2237], 2165: [504], 2166: [1737], 2167: [3120], 2168: [2951], 2169: [2200], 2170: [2728], 2171: [2805], 2172: [2356], 2173: [663], 2174: [2745], 2175: [551], 2176: [873], 2177: [2090], 2178: [881], 2179: [3110], 2180: [2762], 2181: [2896], 2182: [1199], 2183: [1848], 2184: [1030], 2185: [194], 2186: [911], 2187: [2245], 2188: [1796], 2189: [2346], 2190: [2081], 2191: [2780], 2192: [1806], 2193: [1172], 2194: [720], 2195: [9], 2196: [1576], 2197: [2600], 2198: [1313], 2199: [858], 2200: [1222], 2201: [2874], 2202: [3128], 2203: [2044], 2204: [868], 2205: [1167], 2206: [1240], 2207: [3215], 2208: [401], 2209: [829], 2210: [285], 2211: [645], 2212: [1910], 2213: [711], 2214: [799], 2215: [150], 2216: [849], 2217: [1904], 2218: [2645], 2219: [739], 2220: [2305], 2221: [2485], 2222: [2668], 2223: [2818], 2224: [2783], 2225: [437], 2226: [1703], 2227: [3176], 2228: [958], 2229: [2046], 2230: [2475], 2231: [513], 2232: [878], 2233: [321], 2234: [2247], 2235: [2987], 2236: [1468], 2237: [2037], 2238: [2029], 2239: [2270], 2240: [1344], 2241: [1991], 2242: [2078], 2243: [1888], 2244: [2703], 2245: [2187], 2246: [520], 2247: [2234], 2248: [1572], 2249: [1800], 2250: [2872], 2251: [1084], 2252: [238], 2253: [2022], 2254: [2707], 2255: [1963], 2256: [429], 2257: [125], 2258: [39], 2259: [1844], 2260: [2507], 2261: [1761], 2262: [3020], 2263: [1779], 2264: [3025], 2265: [1869], 2266: [576], 2267: [475], 2268: [2223], 2269: [1488], 2270: [2239], 2271: [195], 2272: [561], 2273: [1455], 2274: [524], 2275: [2136], 2276: [2039], 2277: [1345], 2278: [1517], 2279: [791], 2280: [1635], 2281: [1046], 2282: [2106], 2283: [1058], 2284: [784], 2285: [2057], 2286: [2890], 2287: [1082], 2288: [829], 2289: [1138], 2290: [156], 2291: [735], 2292: [1611], 2293: [1067], 2294: [1239], 2295: [330], 2296: [1420], 2297: [2683], 2298: [1888], 2299: [1385], 2300: [1608], 2301: [588], 2302: [2784], 2303: [1897], 2304: [3013], 2305: [1667], 2306: [2777], 2307: [2680], 2308: [2148], 2309: [3197], 2310: [3114], 2311: [2434], 2312: [1683], 2313: [232], 2314: [1964], 2315: [47], 2316: [594], 2317: [2310], 2318: [1449], 2319: [3223], 2320: [1433], 2321: [3036], 2322: [1085], 2323: [3116], 2324: [1443], 2325: [332], 2326: [2158], 2327: [3212], 2328: [1027], 2329: [1366], 2330: [1942], 2331: [2009], 2332: [1190], 2333: [2409], 2334: [1850], 2335: [1835], 2336: [2541], 2337: [3137], 2338: [2095], 2339: [2543], 2340: [2608], 2341: [1850], 2342: [2203], 2343: [2288], 2344: [2099], 2345: [2072], 2346: [1170], 2347: [2433], 2348: [981], 2349: [1839], 2350: [740], 2351: [1856], 2352: [148], 2353: [2384], 2354: [2607], 2355: [1868], 2356: [3100], 2357: [2026], 2358: [1606], 2359: [813], 2360: [1787], 2361: [118], 2362: [1802], 2363: [1634], 2364: [1646], 2365: [278], 2366: [1322], 2367: [1857], 2368: [2751], 2369: [598], 2370: [1825], 2371: [3214], 2372: [1170], 2373: [261], 2374: [99], 2375: [2836], 2376: [1495], 2377: [2132], 2378: [3149], 2379: [672], 2380: [1367], 2381: [1446], 2382: [839], 2383: [1116], 2384: [842], 2385: [2402], 2386: [2390], 2387: [476], 2388: [1257], 2389: [397], 2390: [2081], 2391: [1403], 2392: [1632], 2393: [247], 2394: [1488], 2395: [1280], 2396: [1474], 2397: [1329], 2398: [265], 2399: [914], 2400: [926], 2401: [2739], 2402: [810], 2403: [2467], 2404: [3079], 2405: [1814], 2406: [1941], 2407: [2847], 2408: [1257], 2409: [2333], 2410: [2308], 2411: [3175], 2412: [2937], 2413: [1249], 2414: [305], 2415: [644], 2416: [470], 2417: [1631], 2418: [2466], 2419: [2706], 2420: [1657], 2421: [621], 2422: [622], 2423: [2646], 2424: [1631], 2425: [239], 2426: [1223], 2427: [1445], 2428: [3066], 2429: [429], 2430: [2435], 2431: [339], 2432: [355], 2433: [2347], 2434: [2311], 2435: [1373], 2436: [1451], 2437: [3130], 2438: [1099], 2439: [1863], 2440: [88], 2441: [1362], 2442: [316], 2443: [225], 2444: [2476], 2445: [1267], 2446: [1341], 2447: [445], 2448: [80], 2449: [1012], 2450: [2117], 2451: [2911], 2452: [1030], 2453: [267], 2454: [368], 2455: [983], 2456: [121], 2457: [2771], 2458: [1808], 2459: [604], 2460: [2657], 2461: [479], 2462: [430], 2463: [350], 2464: [2727], 2465: [315], 2466: [2418], 2467: [502], 2468: [2743], 2469: [1255], 2470: [1835], 2471: [448], 2472: [835], 2473: [301], 2474: [633], 2475: [1116], 2476: [2444], 2477: [3178], 2478: [122], 2479: [1682], 2480: [1654], 2481: [2315], 2482: [2030], 2483: [936], 2484: [835], 2485: [2221], 2486: [1854], 2487: [68], 2488: [4], 2489: [2638], 2490: [419], 2491: [3049], 2492: [2869], 2493: [1837], 2494: [1132], 2495: [3200], 2496: [2537], 2497: [2851], 2498: [285], 2499: [905], 2500: [54], 2501: [155], 2502: [3105], 2503: [782], 2504: [1950], 2505: [246], 2506: [1870], 2507: [2260], 2508: [7], 2509: [2250], 2510: [3155], 2511: [1642], 2512: [512], 2513: [307], 2514: [2518], 2515: [3123], 2516: [2242], 2517: [141], 2518: [2944], 2519: [619], 2520: [617], 2521: [1216], 2522: [2581], 2523: [439], 2524: [2935], 2525: [2209], 2526: [584], 2527: [2922], 2528: [1052], 2529: [1413], 2530: [2974], 2531: [1018], 2532: [216], 2533: [1272], 2534: [1538], 2535: [1855], 2536: [1024], 2537: [1995], 2538: [3202], 2539: [1770], 2540: [1187], 2541: [2336], 2542: [2154], 2543: [2339], 2544: [471], 2545: [1601], 2546: [780], 2547: [945], 2548: [49], 2549: [1291], 2550: [1293], 2551: [1240], 2552: [396], 2553: [910], 2554: [600], 2555: [394], 2556: [1767], 2557: [234], 2558: [2427], 2559: [1805], 2560: [1876], 2561: [1625], 2562: [1258], 2563: [2578], 2564: [2957], 2565: [111], 2566: [1627], 2567: [2715], 2568: [1885], 2569: [1438], 2570: [2750], 2571: [2052], 2572: [2870], 2573: [3015], 2574: [793], 2575: [103], 2576: [3062], 2577: [2788], 2578: [1378], 2579: [2235], 2580: [2062], 2581: [2522], 2582: [2968], 2583: [534], 2584: [1425], 2585: [744], 2586: [2248], 2587: [41], 2588: [1750], 2589: [463], 2590: [3098], 2591: [521], 2592: [1950], 2593: [3111], 2594: [2533], 2595: [894], 2596: [1781], 2597: [2399], 2598: [1475], 2599: [499], 2600: [1090], 2601: [1183], 2602: [2312], 2603: [2111], 2604: [1411], 2605: [558], 2606: [891], 2607: [2354], 2608: [2340], 2609: [845], 2610: [2127], 2611: [2168], 2612: [736], 2613: [264], 2614: [1112], 2615: [886], 2616: [1707], 2617: [2953], 2618: [3034], 2619: [56], 2620: [338], 2621: [796], 2622: [1894], 2623: [706], 2624: [1033], 2625: [536], 2626: [1101], 2627: [1552], 2628: [2948], 2629: [1845], 2630: [506], 2631: [428], 2632: [166], 2633: [759], 2634: [286], 2635: [1839], 2636: [2121], 2637: [499], 2638: [2489], 2639: [1930], 2640: [490], 2641: [1170], 2642: [1294], 2643: [987], 2644: [1837], 2645: [2218], 2646: [2423], 2647: [3044], 2648: [695], 2649: [3112], 2650: [1480], 2651: [1471], 2652: [382], 2653: [224], 2654: [1970], 2655: [665], 2656: [2194], 2657: [1658], 2658: [2108], 2659: [2704], 2660: [2971], 2661: [666], 2662: [14], 2663: [2041], 2664: [107], 2665: [439], 2666: [83], 2667: [770], 2668: [2375], 2669: [2970], 2670: [1238], 2671: [3233], 2672: [1675], 2673: [570], 2674: [79], 2675: [544], 2676: [1737], 2677: [2147], 2678: [1614], 2679: [884], 2680: [2307], 2681: [3080], 2682: [755], 2683: [2297], 2684: [1243], 2685: [697], 2686: [464], 2687: [1227], 2688: [2160], 2689: [2735], 2690: [2811], 2691: [2054], 2692: [2708], 2693: [177], 2694: [2821], 2695: [1848], 2696: [843], 2697: [3200], 2698: [1115], 2699: [2131], 2700: [2440], 2701: [204], 2702: [2082], 2703: [1977], 2704: [174], 2705: [1355], 2706: [2419], 2707: [2001], 2708: [1249], 2709: [82], 2710: [1904], 2711: [1489], 2712: [92], 2713: [1651], 2714: [2717], 2715: [1802], 2716: [2122], 2717: [1353], 2718: [2597], 2719: [444], 2720: [3125], 2721: [337], 2722: [724], 2723: [345], 2724: [2758], 2725: [2078], 2726: [54], 2727: [2746], 2728: [2170], 2729: [1248], 2730: [3227], 2731: [1450], 2732: [753], 2733: [608], 2734: [3148], 2735: [2689], 2736: [2702], 2737: [3074], 2738: [2194], 2739: [2401], 2740: [178], 2741: [1578], 2742: [2593], 2743: [2277], 2744: [340], 2745: [2103], 2746: [392], 2747: [2358], 2748: [109], 2749: [1656], 2750: [2005], 2751: [2921], 2752: [207], 2753: [2337], 2754: [1440], 2755: [356], 2756: [1297], 2757: [619], 2758: [9], 2759: [748], 2760: [1174], 2761: [1086], 2762: [2180], 2763: [441], 2764: [2794], 2765: [1415], 2766: [2940], 2767: [2443], 2768: [1501], 2769: [933], 2770: [1231], 2771: [2457], 2772: [1236], 2773: [311], 2774: [2281], 2775: [452], 2776: [1334], 2777: [318], 2778: [1637], 2779: [134], 2780: [1799], 2781: [781], 2782: [719], 2783: [2224], 2784: [2683], 2785: [1207], 2786: [2797], 2787: [1100], 2788: [2577], 2789: [2770], 2790: [1387], 2791: [1387], 2792: [1819], 2793: [2572], 2794: [505], 2795: [1522], 2796: [926], 2797: [2786], 2798: [3043], 2799: [61], 2800: [493], 2801: [510], 2802: [3037], 2803: [1882], 2804: [726], 2805: [2975], 2806: [1727], 2807: [1299], 2808: [106], 2809: [511], 2810: [1694], 2811: [2690], 2812: [2020], 2813: [1109], 2814: [3091], 2815: [3083], 2816: [353], 2817: [993], 2818: [2223], 2819: [591], 2820: [1203], 2821: [2694], 2822: [1879], 2823: [2932], 2824: [8], 2825: [3174], 2826: [1195], 2827: [2069], 2828: [1077], 2829: [292], 2830: [1513], 2831: [1182], 2832: [2787], 2833: [2231], 2834: [1175], 2835: [2972], 2836: [2375], 2837: [1626], 2838: [990], 2839: [2916], 2840: [1555], 2841: [1413], 2842: [122], 2843: [1867], 2844: [1666], 2845: [715], 2846: [2984], 2847: [2407], 2848: [2885], 2849: [2453], 2850: [191], 2851: [1434], 2852: [681], 2853: [1483], 2854: [390], 2855: [1095], 2856: [1113], 2857: [1095], 2858: [180], 2859: [1951], 2860: [2011], 2861: [2853], 2862: [1280], 2863: [457], 2864: [795], 2865: [2123], 2866: [239], 2867: [410], 2868: [1890], 2869: [491], 2870: [2572], 2871: [372], 2872: [2250], 2873: [2068], 2874: [2201], 2875: [1509], 2876: [293], 2877: [1961], 2878: [1551], 2879: [195], 2880: [2697], 2881: [635], 2882: [2113], 2883: [3129], 2884: [1384], 2885: [227], 2886: [1684], 2887: [1983], 2888: [1506], 2889: [887], 2890: [2286], 2891: [2495], 2892: [2069], 2893: [699], 2894: [781], 2895: [2378], 2896: [1385], 2897: [1177], 2898: [128], 2899: [1987], 2900: [1344], 2901: [440], 2902: [106], 2903: [93], 2904: [2000], 2905: [1861], 2906: [2385], 2907: [648], 2908: [1530], 2909: [2228], 2910: [1602], 2911: [1693], 2912: [34], 2913: [706], 2914: [2490], 2915: [1211], 2916: [3000], 2917: [1043], 2918: [2663], 2919: [2917], 2920: [948], 2921: [2751], 2922: [2527], 2923: [1738], 2924: [2109], 2925: [1613], 2926: [1146], 2927: [980], 2928: [1266], 2929: [2995], 2930: [721], 2931: [2680], 2932: [2823], 2933: [2074], 2934: [1556], 2935: [105], 2936: [2433], 2937: [2412], 2938: [745], 2939: [1701], 2940: [1183], 2941: [982], 2942: [1052], 2943: [603], 2944: [2518], 2945: [1660], 2946: [2316], 2947: [932], 2948: [1641], 2949: [1133], 2950: [110], 2951: [2168], 2952: [1058], 2953: [241], 2954: [2700], 2955: [1273], 2956: [1309], 2957: [1276], 2958: [2957], 2959: [1700], 2960: [1554], 2961: [1345], 2962: [1115], 2963: [554], 2964: [2091], 2965: [640], 2966: [3146], 2967: [1549], 2968: [1519], 2969: [1005], 2970: [2669], 2971: [2660], 2972: [2126], 2973: [761], 2974: [2530], 2975: [2805], 2976: [2277], 2977: [1179], 2978: [2397], 2979: [277], 2980: [3145], 2981: [1978], 2982: [1469], 2983: [1067], 2984: [2846], 2985: [2718], 2986: [2299], 2987: [1576], 2988: [391], 2989: [130], 2990: [843], 2991: [965], 2992: [2292], 2993: [936], 2994: [636], 2995: [2929], 2996: [1346], 2997: [1434], 2998: [2156], 2999: [2927], 3000: [1218], 3001: [1286], 3002: [1739], 3003: [1499], 3004: [2214], 3005: [1994], 3006: [2667], 3007: [2582], 3008: [151], 3009: [444], 3010: [2721], 3011: [1585], 3012: [1064], 3013: [2304], 3014: [1295], 3015: [2573], 3016: [245], 3017: [200], 3018: [1817], 3019: [2775], 3020: [1533], 3021: [2548], 3022: [2019], 3023: [1331], 3024: [50], 3025: [1553], 3026: [1947], 3027: [3057], 3028: [53], 3029: [3133], 3030: [738], 3031: [1266], 3032: [2120], 3033: [1171], 3034: [2618], 3035: [76], 3036: [959], 3037: [1636], 3038: [33], 3039: [3137], 3040: [170], 3041: [141], 3042: [326], 3043: [1467], 3044: [367], 3045: [669], 3046: [734], 3047: [1003], 3048: [263], 3049: [682], 3050: [1426], 3051: [1912], 3052: [2261], 3053: [329], 3054: [144], 3055: [411], 3056: [118], 3057: [3027], 3058: [2584], 3059: [1962], 3060: [2202], 3061: [1499], 3062: [2576], 3063: [1151], 3064: [2015], 3065: [565], 3066: [2907], 3067: [1729], 3068: [779], 3069: [1552], 3070: [172], 3071: [305], 3072: [2664], 3073: [1571], 3074: [2737], 3075: [138], 3076: [114], 3077: [1135], 3078: [1968], 3079: [2404], 3080: [1774], 3081: [1882], 3082: [2192], 3083: [2815], 3084: [2354], 3085: [1814], 3086: [1942], 3087: [1340], 3088: [1001], 3089: [2090], 3090: [61], 3091: [2155], 3092: [1690], 3093: [417], 3094: [1212], 3095: [2947], 3096: [2609], 3097: [36], 3098: [2590], 3099: [1565], 3100: [2356], 3101: [2923], 3102: [579], 3103: [648], 3104: [1593], 3105: [2502], 3106: [1004], 3107: [1709], 3108: [617], 3109: [1323], 3110: [2179], 3111: [1078], 3112: [662], 3113: [1157], 3114: [2310], 3115: [1872], 3116: [2323], 3117: [1894], 3118: [2304], 3119: [2985], 3120: [2167], 3121: [3115], 3122: [175], 3123: [2515], 3124: [2090], 3125: [483], 3126: [235], 3127: [42], 3128: [2868], 3129: [1831], 3130: [1383], 3131: [2739], 3132: [236], 3133: [3029], 3134: [1585], 3135: [1917], 3136: [504], 3137: [2337], 3138: [1303], 3139: [213], 3140: [2599], 3141: [1694], 3142: [1953], 3143: [3230], 3144: [276], 3145: [321], 3146: [2966], 3147: [1615], 3148: [2734], 3149: [2539], 3150: [3161], 3151: [1238], 3152: [746], 3153: [1371], 3154: [2633], 3155: [2633], 3156: [1892], 3157: [2668], 3158: [607], 3159: [1288], 3160: [699], 3161: [3150], 3162: [564], 3163: [1043], 3164: [2446], 3165: [1860], 3166: [756], 3167: [411], 3168: [912], 3169: [975], 3170: [1026], 3171: [1830], 3172: [2748], 3173: [1744], 3174: [2825], 3175: [2411], 3176: [2227], 3177: [571], 3178: [514], 3179: [855], 3180: [723], 3181: [537], 3182: [858], 3183: [1684], 3184: [121], 3185: [1382], 3186: [657], 3187: [688], 3188: [3206], 3189: [1456], 3190: [526], 3191: [1492], 3192: [2092], 3193: [791], 3194: [347], 3195: [542], 3196: [1447], 3197: [2309], 3198: [1457], 3199: [1457], 3200: [2495], 3201: [2145], 3202: [2538], 3203: [1645], 3204: [711], 3205: [1693], 3206: [3188], 3207: [1777], 3208: [1665], 3209: [1918], 3210: [677], 3211: [962], 3212: [358], 3213: [1640], 3214: [2371], 3215: [2207], 3216: [1071], 3217: [1063], 3218: [639], 3219: [57], 3220: [2642], 3221: [1095], 3222: [565], 3223: [2319], 3224: [803], 3225: [897], 3226: [1789], 3227: [2730], 3228: [1529], 3229: [405], 3230: [3143], 3231: [839], 3232: [1163], 3233: [2671], 3234: [358]}\n"
     ]
    },
    {
     "name": "stderr",
     "output_type": "stream",
     "text": [
      "/Users/dilagurer/anaconda3/lib/python3.11/site-packages/libpysal/weights/distance.py:153: UserWarning: The weights matrix is not fully connected: \n",
      " There are 868 disconnected components.\n",
      "  W.__init__(self, neighbors, id_order=ids, **kwargs)\n"
     ]
    }
   ],
   "source": [
    "import libpysal\n",
    "from libpysal.weights import KNN\n",
    "\n",
    "import geopandas as gpd\n",
    "\n",
    "shp_path = \"/Users/dilagurer/Desktop/tl_2023_us_county (2)\"\n",
    "shapefile = gpd.read_file(shp_path)\n",
    "w_knn1 = KNN.from_dataframe(shapefile, k=1)\n",
    "\n",
    "print(w_knn1)\n",
    "\n",
    "five_neighbors = {key: w_knn1.neighbors[key][:5] for key in w_knn1.neighbors}\n",
    "print(five_neighbors)\n"
   ]
  },
  {
   "cell_type": "code",
   "execution_count": 9,
   "id": "f84ce329-3c99-45b6-bbf9-4f7a873039de",
   "metadata": {
    "tags": []
   },
   "outputs": [
    {
     "ename": "NameError",
     "evalue": "name 'shapefile' is not defined",
     "output_type": "error",
     "traceback": [
      "\u001b[0;31m---------------------------------------------------------------------------\u001b[0m",
      "\u001b[0;31mNameError\u001b[0m                                 Traceback (most recent call last)",
      "Cell \u001b[0;32mIn[9], line 3\u001b[0m\n\u001b[1;32m      1\u001b[0m \u001b[38;5;28;01mfrom\u001b[39;00m \u001b[38;5;21;01mlibpysal\u001b[39;00m\u001b[38;5;21;01m.\u001b[39;00m\u001b[38;5;21;01mweights\u001b[39;00m \u001b[38;5;28;01mimport\u001b[39;00m Rook\n\u001b[0;32m----> 3\u001b[0m w_rook \u001b[38;5;241m=\u001b[39m Rook\u001b[38;5;241m.\u001b[39mfrom_dataframe(shapefile)\n\u001b[1;32m      5\u001b[0m neighbors_four \u001b[38;5;241m=\u001b[39m w_rook\u001b[38;5;241m.\u001b[39mneighbors[\u001b[38;5;241m4\u001b[39m]\n\u001b[1;32m      7\u001b[0m \u001b[38;5;28mprint\u001b[39m(neighbors_four)\n",
      "\u001b[0;31mNameError\u001b[0m: name 'shapefile' is not defined"
     ]
    }
   ],
   "source": [
    "from libpysal.weights import Rook\n",
    "\n",
    "w_rook = Rook.from_dataframe(shapefile)\n",
    "\n",
    "neighbors_four = w_rook.neighbors[4]\n",
    "\n",
    "print(neighbors_four)\n"
   ]
  },
  {
   "cell_type": "code",
   "execution_count": 111,
   "id": "c085142f-3ab9-4032-b376-02a6539b8eba",
   "metadata": {
    "tags": []
   },
   "outputs": [
    {
     "data": {
      "text/plain": [
       "<libpysal.weights.contiguity.Queen at 0x15a5add10>"
      ]
     },
     "execution_count": 111,
     "metadata": {},
     "output_type": "execute_result"
    }
   ],
   "source": [
    "wq = libpysal.weights.Queen.from_dataframe(my_merged_data)\n",
    "wq"
   ]
  },
  {
   "cell_type": "code",
   "execution_count": 14,
   "id": "bf9ec0c9-378a-40b7-b793-93c009870519",
   "metadata": {
    "tags": []
   },
   "outputs": [
    {
     "ename": "NameError",
     "evalue": "name 'wq' is not defined",
     "output_type": "error",
     "traceback": [
      "\u001b[0;31m---------------------------------------------------------------------------\u001b[0m",
      "\u001b[0;31mNameError\u001b[0m                                 Traceback (most recent call last)",
      "Cell \u001b[0;32mIn[14], line 5\u001b[0m\n\u001b[1;32m      1\u001b[0m \u001b[38;5;28;01mimport\u001b[39;00m \u001b[38;5;21;01mlibpysal\u001b[39;00m\n\u001b[1;32m      3\u001b[0m column \u001b[38;5;241m=\u001b[39m \u001b[38;5;124m'\u001b[39m\u001b[38;5;124mS1702_C06_046E\u001b[39m\u001b[38;5;124m'\u001b[39m\n\u001b[0;32m----> 5\u001b[0m my_merged_data[\u001b[38;5;124mf\u001b[39m\u001b[38;5;124m'\u001b[39m\u001b[38;5;132;01m{\u001b[39;00mcolumn\u001b[38;5;132;01m}\u001b[39;00m\u001b[38;5;124m_lag\u001b[39m\u001b[38;5;124m'\u001b[39m] \u001b[38;5;241m=\u001b[39m libpysal\u001b[38;5;241m.\u001b[39mweights\u001b[38;5;241m.\u001b[39mlag_spatial(wq, my_merged_data[column])\n",
      "\u001b[0;31mNameError\u001b[0m: name 'wq' is not defined"
     ]
    }
   ],
   "source": [
    "import libpysal\n",
    "\n",
    "column = 'S1702_C06_046E'\n",
    "\n",
    "my_merged_data[f'{column}_lag'] = libpysal.weights.lag_spatial(wq, my_merged_data[column])\n"
   ]
  },
  {
   "cell_type": "markdown",
   "id": "acc2a664-1114-4d2d-a244-1d0825d4e180",
   "metadata": {},
   "source": [
    "QUESTION 3"
   ]
  },
  {
   "cell_type": "code",
   "execution_count": 162,
   "id": "70e57ad0-5ae6-4b1a-ac31-cfdd9ffd2e1f",
   "metadata": {
    "tags": []
   },
   "outputs": [
    {
     "ename": "ValueError",
     "evalue": "dimension mismatch",
     "output_type": "error",
     "traceback": [
      "\u001b[0;31m---------------------------------------------------------------------------\u001b[0m",
      "\u001b[0;31mValueError\u001b[0m                                Traceback (most recent call last)",
      "Cell \u001b[0;32mIn[162], line 5\u001b[0m\n\u001b[1;32m      2\u001b[0m \u001b[38;5;28;01mimport\u001b[39;00m \u001b[38;5;21;01mseaborn\u001b[39;00m \u001b[38;5;28;01mas\u001b[39;00m \u001b[38;5;21;01msns\u001b[39;00m\n\u001b[1;32m      3\u001b[0m \u001b[38;5;28;01mimport\u001b[39;00m \u001b[38;5;21;01mmatplotlib\u001b[39;00m\u001b[38;5;21;01m.\u001b[39;00m\u001b[38;5;21;01mpyplot\u001b[39;00m \u001b[38;5;28;01mas\u001b[39;00m \u001b[38;5;21;01mplt\u001b[39;00m\n\u001b[0;32m----> 5\u001b[0m my_merged_data[\u001b[38;5;124m'\u001b[39m\u001b[38;5;124mINTPTLAT_spatial\u001b[39m\u001b[38;5;124m'\u001b[39m] \u001b[38;5;241m=\u001b[39m libpysal\u001b[38;5;241m.\u001b[39mweights\u001b[38;5;241m.\u001b[39mlag_spatial(wq, merged_data[\u001b[38;5;124m'\u001b[39m\u001b[38;5;124mINTPTLAT\u001b[39m\u001b[38;5;124m'\u001b[39m])\n\u001b[1;32m      7\u001b[0m variables \u001b[38;5;241m=\u001b[39m [\u001b[38;5;124m'\u001b[39m\u001b[38;5;124mINTPTLON\u001b[39m\u001b[38;5;124m'\u001b[39m]\n\u001b[1;32m      9\u001b[0m corr_matrix \u001b[38;5;241m=\u001b[39m my_merged_data[variables]\u001b[38;5;241m.\u001b[39mcorr()\n",
      "File \u001b[0;32m~/anaconda3/lib/python3.11/site-packages/libpysal/weights/spatial_lag.py:87\u001b[0m, in \u001b[0;36mlag_spatial\u001b[0;34m(w, y)\u001b[0m\n\u001b[1;32m     15\u001b[0m \u001b[38;5;28;01mdef\u001b[39;00m \u001b[38;5;21mlag_spatial\u001b[39m(w, y):\n\u001b[1;32m     16\u001b[0m \u001b[38;5;250m    \u001b[39m\u001b[38;5;124;03m\"\"\"\u001b[39;00m\n\u001b[1;32m     17\u001b[0m \u001b[38;5;124;03m    Spatial lag operator.\u001b[39;00m\n\u001b[1;32m     18\u001b[0m \n\u001b[0;32m   (...)\u001b[0m\n\u001b[1;32m     85\u001b[0m \u001b[38;5;124;03m           [6.        , 2.        ]])\u001b[39;00m\n\u001b[1;32m     86\u001b[0m \u001b[38;5;124;03m    \"\"\"\u001b[39;00m\n\u001b[0;32m---> 87\u001b[0m     \u001b[38;5;28;01mreturn\u001b[39;00m w\u001b[38;5;241m.\u001b[39msparse \u001b[38;5;241m*\u001b[39m y\n",
      "File \u001b[0;32m~/anaconda3/lib/python3.11/site-packages/scipy/sparse/_matrix.py:48\u001b[0m, in \u001b[0;36mspmatrix.__mul__\u001b[0;34m(self, other)\u001b[0m\n\u001b[1;32m     47\u001b[0m \u001b[38;5;28;01mdef\u001b[39;00m \u001b[38;5;21m__mul__\u001b[39m(\u001b[38;5;28mself\u001b[39m, other):\n\u001b[0;32m---> 48\u001b[0m     \u001b[38;5;28;01mreturn\u001b[39;00m \u001b[38;5;28mself\u001b[39m\u001b[38;5;241m.\u001b[39m_mul_dispatch(other)\n",
      "File \u001b[0;32m~/anaconda3/lib/python3.11/site-packages/scipy/sparse/_base.py:553\u001b[0m, in \u001b[0;36m_spbase._mul_dispatch\u001b[0;34m(self, other)\u001b[0m\n\u001b[1;32m    550\u001b[0m \u001b[38;5;28;01mif\u001b[39;00m other\u001b[38;5;241m.\u001b[39mndim \u001b[38;5;241m==\u001b[39m \u001b[38;5;241m1\u001b[39m \u001b[38;5;129;01mor\u001b[39;00m other\u001b[38;5;241m.\u001b[39mndim \u001b[38;5;241m==\u001b[39m \u001b[38;5;241m2\u001b[39m \u001b[38;5;129;01mand\u001b[39;00m other\u001b[38;5;241m.\u001b[39mshape[\u001b[38;5;241m1\u001b[39m] \u001b[38;5;241m==\u001b[39m \u001b[38;5;241m1\u001b[39m:\n\u001b[1;32m    551\u001b[0m     \u001b[38;5;66;03m# dense row or column vector\u001b[39;00m\n\u001b[1;32m    552\u001b[0m     \u001b[38;5;28;01mif\u001b[39;00m other\u001b[38;5;241m.\u001b[39mshape \u001b[38;5;241m!=\u001b[39m (N,) \u001b[38;5;129;01mand\u001b[39;00m other\u001b[38;5;241m.\u001b[39mshape \u001b[38;5;241m!=\u001b[39m (N, \u001b[38;5;241m1\u001b[39m):\n\u001b[0;32m--> 553\u001b[0m         \u001b[38;5;28;01mraise\u001b[39;00m \u001b[38;5;167;01mValueError\u001b[39;00m(\u001b[38;5;124m'\u001b[39m\u001b[38;5;124mdimension mismatch\u001b[39m\u001b[38;5;124m'\u001b[39m)\n\u001b[1;32m    555\u001b[0m     result \u001b[38;5;241m=\u001b[39m \u001b[38;5;28mself\u001b[39m\u001b[38;5;241m.\u001b[39m_mul_vector(np\u001b[38;5;241m.\u001b[39mravel(other))\n\u001b[1;32m    557\u001b[0m     \u001b[38;5;28;01mif\u001b[39;00m \u001b[38;5;28misinstance\u001b[39m(other, np\u001b[38;5;241m.\u001b[39mmatrix):\n",
      "\u001b[0;31mValueError\u001b[0m: dimension mismatch"
     ]
    }
   ],
   "source": [
    "import libpysal\n",
    "import seaborn as sns\n",
    "import matplotlib.pyplot as plt\n",
    "\n",
    "my_merged_data['INTPTLAT_spatial'] = libpysal.weights.lag_spatial(wq, merged_data['INTPTLAT'])\n",
    "\n",
    "variables = ['INTPTLON']\n",
    "\n",
    "corr_matrix = my_merged_data[variables].corr()\n",
    "\n",
    "plt.figure(figsize=(15, 15))\n",
    "sns.heatmap(corr_matrix, cmap=\"YlGnBu\", annot=True)\n",
    "plt.title(\"My Correlation Heatmap\")\n",
    "plt.show()\n"
   ]
  },
  {
   "cell_type": "markdown",
   "id": "3108b80f-9612-4fc8-a731-8d7896328f9a",
   "metadata": {},
   "source": [
    "QUESTION 4"
   ]
  },
  {
   "cell_type": "code",
   "execution_count": 115,
   "id": "bf80107b-a08a-48ae-8f55-04a786be0f3e",
   "metadata": {
    "tags": []
   },
   "outputs": [],
   "source": [
    "my_merged_data = my_merged_data.dropna(axis=0)"
   ]
  },
  {
   "cell_type": "code",
   "execution_count": 116,
   "id": "25ec0bf8-6be9-44ba-9ce1-411c5773ef43",
   "metadata": {
    "tags": []
   },
   "outputs": [
    {
     "name": "stdout",
     "output_type": "stream",
     "text": [
      "Requirement already satisfied: spreg in /Users/dilagurer/anaconda3/lib/python3.11/site-packages (1.4.2)\n",
      "Requirement already satisfied: scipy>=0.11 in /Users/dilagurer/anaconda3/lib/python3.11/site-packages (from spreg) (1.11.1)\n",
      "Requirement already satisfied: numpy>=1.23 in /Users/dilagurer/anaconda3/lib/python3.11/site-packages (from spreg) (1.24.3)\n",
      "Requirement already satisfied: pandas in /Users/dilagurer/anaconda3/lib/python3.11/site-packages (from spreg) (2.0.3)\n",
      "Requirement already satisfied: libpysal>=4.0.0 in /Users/dilagurer/anaconda3/lib/python3.11/site-packages (from spreg) (4.10)\n",
      "Requirement already satisfied: scikit-learn>=0.22 in /Users/dilagurer/anaconda3/lib/python3.11/site-packages (from spreg) (1.3.0)\n",
      "Requirement already satisfied: beautifulsoup4>=4.10 in /Users/dilagurer/anaconda3/lib/python3.11/site-packages (from libpysal>=4.0.0->spreg) (4.12.2)\n",
      "Requirement already satisfied: geopandas>=0.10.0 in /Users/dilagurer/anaconda3/lib/python3.11/site-packages (from libpysal>=4.0.0->spreg) (0.14.3)\n",
      "Requirement already satisfied: packaging>=22 in /Users/dilagurer/anaconda3/lib/python3.11/site-packages (from libpysal>=4.0.0->spreg) (23.1)\n",
      "Requirement already satisfied: platformdirs>=2.0.2 in /Users/dilagurer/anaconda3/lib/python3.11/site-packages (from libpysal>=4.0.0->spreg) (3.10.0)\n",
      "Requirement already satisfied: requests>=2.27 in /Users/dilagurer/anaconda3/lib/python3.11/site-packages (from libpysal>=4.0.0->spreg) (2.31.0)\n",
      "Requirement already satisfied: shapely>=2.0.1 in /Users/dilagurer/anaconda3/lib/python3.11/site-packages (from libpysal>=4.0.0->spreg) (2.0.4)\n",
      "Requirement already satisfied: python-dateutil>=2.8.2 in /Users/dilagurer/anaconda3/lib/python3.11/site-packages (from pandas->spreg) (2.8.2)\n",
      "Requirement already satisfied: pytz>=2020.1 in /Users/dilagurer/anaconda3/lib/python3.11/site-packages (from pandas->spreg) (2023.3.post1)\n",
      "Requirement already satisfied: tzdata>=2022.1 in /Users/dilagurer/anaconda3/lib/python3.11/site-packages (from pandas->spreg) (2023.3)\n",
      "Requirement already satisfied: joblib>=1.1.1 in /Users/dilagurer/anaconda3/lib/python3.11/site-packages (from scikit-learn>=0.22->spreg) (1.2.0)\n",
      "Requirement already satisfied: threadpoolctl>=2.0.0 in /Users/dilagurer/anaconda3/lib/python3.11/site-packages (from scikit-learn>=0.22->spreg) (2.2.0)\n",
      "Requirement already satisfied: soupsieve>1.2 in /Users/dilagurer/anaconda3/lib/python3.11/site-packages (from beautifulsoup4>=4.10->libpysal>=4.0.0->spreg) (2.4)\n",
      "Requirement already satisfied: fiona>=1.8.21 in /Users/dilagurer/anaconda3/lib/python3.11/site-packages (from geopandas>=0.10.0->libpysal>=4.0.0->spreg) (1.9.6)\n",
      "Requirement already satisfied: pyproj>=3.3.0 in /Users/dilagurer/anaconda3/lib/python3.11/site-packages (from geopandas>=0.10.0->libpysal>=4.0.0->spreg) (3.6.1)\n",
      "Requirement already satisfied: six>=1.5 in /Users/dilagurer/anaconda3/lib/python3.11/site-packages (from python-dateutil>=2.8.2->pandas->spreg) (1.16.0)\n",
      "Requirement already satisfied: charset-normalizer<4,>=2 in /Users/dilagurer/anaconda3/lib/python3.11/site-packages (from requests>=2.27->libpysal>=4.0.0->spreg) (2.0.4)\n",
      "Requirement already satisfied: idna<4,>=2.5 in /Users/dilagurer/anaconda3/lib/python3.11/site-packages (from requests>=2.27->libpysal>=4.0.0->spreg) (3.4)\n",
      "Requirement already satisfied: urllib3<3,>=1.21.1 in /Users/dilagurer/anaconda3/lib/python3.11/site-packages (from requests>=2.27->libpysal>=4.0.0->spreg) (1.26.16)\n",
      "Requirement already satisfied: certifi>=2017.4.17 in /Users/dilagurer/anaconda3/lib/python3.11/site-packages (from requests>=2.27->libpysal>=4.0.0->spreg) (2023.7.22)\n",
      "Requirement already satisfied: attrs>=19.2.0 in /Users/dilagurer/anaconda3/lib/python3.11/site-packages (from fiona>=1.8.21->geopandas>=0.10.0->libpysal>=4.0.0->spreg) (22.1.0)\n",
      "Requirement already satisfied: click~=8.0 in /Users/dilagurer/anaconda3/lib/python3.11/site-packages (from fiona>=1.8.21->geopandas>=0.10.0->libpysal>=4.0.0->spreg) (8.0.4)\n",
      "Requirement already satisfied: click-plugins>=1.0 in /Users/dilagurer/anaconda3/lib/python3.11/site-packages (from fiona>=1.8.21->geopandas>=0.10.0->libpysal>=4.0.0->spreg) (1.1.1)\n",
      "Requirement already satisfied: cligj>=0.5 in /Users/dilagurer/anaconda3/lib/python3.11/site-packages (from fiona>=1.8.21->geopandas>=0.10.0->libpysal>=4.0.0->spreg) (0.7.2)\n",
      "Note: you may need to restart the kernel to use updated packages.\n"
     ]
    }
   ],
   "source": [
    "pip install spreg"
   ]
  },
  {
   "cell_type": "code",
   "execution_count": 117,
   "id": "b994f8bc-d567-4d94-aa4c-283a28e0d06d",
   "metadata": {
    "tags": []
   },
   "outputs": [],
   "source": [
    "import spreg"
   ]
  },
  {
   "cell_type": "code",
   "execution_count": 134,
   "id": "4cf4d582-ca61-402e-a3f6-79d288f3f17b",
   "metadata": {
    "tags": []
   },
   "outputs": [],
   "source": [
    "y = my_merged_data['S1702_C03_002M'].values\n"
   ]
  },
  {
   "cell_type": "code",
   "execution_count": 127,
   "id": "723d3cca-4d41-4158-bb00-60bee8843021",
   "metadata": {
    "tags": []
   },
   "outputs": [
    {
     "name": "stdout",
     "output_type": "stream",
     "text": [
      "[['+38.4230836' '3191']\n",
      " ['+42.3385513' '14792']\n",
      " ['+33.5516027' '4957']\n",
      " ['+41.1374609' '2357']\n",
      " ['+33.7706611' '15513']\n",
      " ['+39.8024071' '10816']\n",
      " ['+33.5822366' '1992']\n",
      " ['+38.8192511' '4823']\n",
      " ['+26.1935353' '37927']\n",
      " ['+32.8998859' '2233']\n",
      " ['+42.2846636' '29388']\n",
      " ['+26.6491257' '22876']\n",
      " ['+39.5623537' '1594']\n",
      " ['+41.4722470' '10773']\n",
      " ['+25.6160085' '50992']\n",
      " ['+33.7838866' '1700']\n",
      " ['+34.1963983' '154948']\n",
      " ['+40.9435540' '27919']\n",
      " ['+32.7770964' '4468']\n",
      " ['+33.9920094' '2658']\n",
      " ['+40.6598707' '11153']\n",
      " ['+33.9210299' '3307']\n",
      " ['+39.5759152' '11148']\n",
      " ['+40.0093755' '30242']\n",
      " ['+41.5881403' '2869']\n",
      " ['+38.9042474' '13862']\n",
      " ['+37.7272391' '15268']\n",
      " ['+41.8942937' '95985']\n",
      " ['+38.0513667' '5230']\n",
      " ['+41.8946125' '1880']\n",
      " ['+33.4127172' '1542']\n",
      " ['+32.5989442' '3469']\n",
      " ['+32.3796540' '4114']\n",
      " ['+34.2409175' '1446']\n",
      " ['+39.8757858' '9845']\n",
      " ['+41.5099144' '3388']\n",
      " ['+38.7440956' '798']\n",
      " ['+40.7296118' '23358']\n",
      " ['+40.4396214' '15241']\n",
      " ['+39.4701773' '6120']\n",
      " ['+43.0886327' '2506']\n",
      " ['+33.3528965' '2763']\n",
      " ['+37.9194790' '23930']\n",
      " ['+41.1526862' '18317']\n",
      " ['+42.9288035' '3006']\n",
      " ['+33.4529466' '4311']\n",
      " ['+42.6025316' '4123']\n",
      " ['+48.0549130' '20087']\n",
      " ['+42.4817182' '36269']\n",
      " ['+40.7313751' '16285']\n",
      " ['+38.7011187' '10653']\n",
      " ['+39.9740287' '11270']\n",
      " ['+32.7721191' '45757']\n",
      " ['+38.8292778' '18421']\n",
      " ['+41.9395938' '10195']\n",
      " ['+40.5612628' '7519']\n",
      " ['+33.7012421' '793']\n",
      " ['+39.1373815' '18092']\n",
      " ['+38.8783374' '5242']\n",
      " ['+33.2190947' '1155']\n",
      " ['+33.9587564' '19419']\n",
      " ['+41.4279067' '2426']\n",
      " ['+32.3468783' '4150']\n",
      " ['+40.2870481' '13216']\n",
      " ['+40.5655273' '6909']\n",
      " ['+39.8656690' '12698']\n",
      " ['+33.6520811' '1731']\n",
      " ['+33.1233077' '2007']\n",
      " ['+42.9886636' '5731']\n",
      " ['+47.4905518' '44866']\n",
      " ['+33.7900338' '22260']\n",
      " ['+42.6715526' '19196']\n",
      " ['+37.6471385' '32115']\n",
      " ['+39.7228745' '4089']\n",
      " ['+41.4484742' '11585']\n",
      " ['+33.1944942' '24204']\n",
      " ['+40.2099992' '19382']\n",
      " ['+40.8588961' '11156']\n",
      " ['+40.7874003' '15721']\n",
      " ['+33.2051320' '21435']\n",
      " ['+40.6546581' '44234']\n",
      " ['+39.9166853' '11767']\n",
      " ['+40.9596985' '18020']\n",
      " ['+41.8520577' '21935']\n",
      " ['+40.6350451' '48675']\n",
      " ['+40.7766419' '35106']\n",
      " ['+42.1859677' '13488']\n",
      " ['+33.9399263' '19430']\n",
      " ['+38.4728532' '3330']\n",
      " ['+32.7669866' '52215']\n",
      " ['+33.6756872' '57162']\n",
      " ['+42.6604518' '23358']\n",
      " ['+40.3368872' '10876']\n",
      " ['+41.0366554' '9114']\n",
      " ['+34.2443166' '6046']\n",
      " ['+39.5738282' '1079']\n",
      " ['+33.5527507' '3432']\n",
      " ['+42.6427082' '18534']\n",
      " ['+41.1546276' '5384']\n",
      " ['+38.8295203' '24178']\n",
      " ['+37.4146725' '15522']\n",
      " ['+42.3242982' '5924']\n",
      " ['+33.2623481' '1468']\n",
      " ['+40.5652832' '2610']\n",
      " ['+39.0812000' '8647']\n",
      " ['+38.1824314' '2120']\n",
      " ['+43.2932725' '2787']\n",
      " ['+34.2251430' '6206']\n",
      " ['+47.0514128' '22027']\n",
      " ['+42.1717377' '15409']\n",
      " ['+41.9871959' '9432']\n",
      " ['+40.8487111' '27258']]\n"
     ]
    }
   ],
   "source": [
    "x_OLS = my_merged_data[['INTPTLAT', 'S1702_C01_003E']].values\n",
    "x_OLS = my_merged_data[['INTPTLAT', 'S1702_C01_003E']].values\n",
    "print(x_OLS)\n",
    "\n"
   ]
  },
  {
   "cell_type": "code",
   "execution_count": 123,
   "id": "3c89500c-a5ae-4314-a604-a9e005b45e89",
   "metadata": {
    "tags": []
   },
   "outputs": [
    {
     "name": "stderr",
     "output_type": "stream",
     "text": [
      "/var/folders/2v/xs7bzv8d2gzbz2kk9ccdf61r0000gn/T/ipykernel_724/3619983164.py:2: UserWarning: The weights matrix is not fully connected: \n",
      " There are 144 disconnected components.\n",
      " There are 75 islands with ids: 0, 26, 35, 41, 43, 62, 74, 75, 88, 89, 91, 112, 117, 121, 128, 130, 134, 135, 151, 193, 194, 201, 231, 252, 258, 292, 297, 302, 307, 311, 313, 316, 329, 331, 358, 369, 389, 416, 419, 466, 478, 494, 501, 521, 544, 545, 550, 551, 575, 579, 595, 620, 625, 642, 644, 659, 667, 669, 671, 673, 687, 701, 712, 715, 717, 733, 764, 778, 785, 786, 790, 801, 802, 817, 832.\n",
      "  w_matrix = W(wq.neighbors, wq.weights)\n"
     ]
    }
   ],
   "source": [
    "from libpysal.weights import W\n",
    "w_matrix = W(wq.neighbors, wq.weights)"
   ]
  },
  {
   "cell_type": "code",
   "execution_count": 124,
   "id": "6fcd80a6-f271-4697-93c5-a0b7b1ac3609",
   "metadata": {
    "tags": []
   },
   "outputs": [
    {
     "name": "stderr",
     "output_type": "stream",
     "text": [
      "/Users/dilagurer/anaconda3/lib/python3.11/site-packages/libpysal/weights/contiguity.py:347: UserWarning: The weights matrix is not fully connected: \n",
      " There are 11 disconnected components.\n",
      "  W.__init__(self, neighbors, ids=ids, **kw)\n"
     ]
    }
   ],
   "source": [
    "wq = libpysal.weights.Queen.from_dataframe(my_merged_data)\n",
    "wq.transform = 'r'"
   ]
  },
  {
   "cell_type": "code",
   "execution_count": 160,
   "id": "55e45611-921b-4c6c-8ff4-591f869b6f03",
   "metadata": {
    "tags": []
   },
   "outputs": [
    {
     "name": "stderr",
     "output_type": "stream",
     "text": [
      "/Users/dilagurer/anaconda3/lib/python3.11/site-packages/libpysal/weights/contiguity.py:347: UserWarning: The weights matrix is not fully connected: \n",
      " There are 17 disconnected components.\n",
      " There are 10 islands with ids: 364, 798, 889, 962, 1244, 1928, 2083, 2736, 3104, 3211.\n",
      "  W.__init__(self, neighbors, ids=ids, **kw)\n"
     ]
    },
    {
     "ename": "TypeError",
     "evalue": "OLS.__init__() got an unexpected keyword argument 'variable_name_x'",
     "output_type": "error",
     "traceback": [
      "\u001b[0;31m---------------------------------------------------------------------------\u001b[0m",
      "\u001b[0;31mTypeError\u001b[0m                                 Traceback (most recent call last)",
      "Cell \u001b[0;32mIn[160], line 14\u001b[0m\n\u001b[1;32m     10\u001b[0m X \u001b[38;5;241m=\u001b[39m shp_gdf[[\u001b[38;5;124m'\u001b[39m\u001b[38;5;124mINTPTLAT\u001b[39m\u001b[38;5;124m'\u001b[39m, \u001b[38;5;124m'\u001b[39m\u001b[38;5;124mINTPTLON\u001b[39m\u001b[38;5;124m'\u001b[39m]]\u001b[38;5;241m.\u001b[39mvalues  \n\u001b[1;32m     11\u001b[0m w \u001b[38;5;241m=\u001b[39m ps\u001b[38;5;241m.\u001b[39mweights\u001b[38;5;241m.\u001b[39mQueen\u001b[38;5;241m.\u001b[39mfrom_dataframe(shp_gdf)\n\u001b[0;32m---> 14\u001b[0m my_model_OLS \u001b[38;5;241m=\u001b[39m OLS(y, X, w\u001b[38;5;241m=\u001b[39mw, spat_diag\u001b[38;5;241m=\u001b[39m\u001b[38;5;28;01mTrue\u001b[39;00m, \n\u001b[1;32m     15\u001b[0m                 variable_name_x\u001b[38;5;241m=\u001b[39m[\u001b[38;5;124m'\u001b[39m\u001b[38;5;124mINTPTLAT\u001b[39m\u001b[38;5;124m'\u001b[39m, \u001b[38;5;124m'\u001b[39m\u001b[38;5;124mINTPTLON\u001b[39m\u001b[38;5;124m'\u001b[39m], \n\u001b[1;32m     16\u001b[0m                 variable_name_y\u001b[38;5;241m=\u001b[39m\u001b[38;5;124m'\u001b[39m\u001b[38;5;124mAWATER\u001b[39m\u001b[38;5;124m'\u001b[39m)\n\u001b[1;32m     19\u001b[0m result \u001b[38;5;241m=\u001b[39m my_model_OLS\u001b[38;5;241m.\u001b[39mfit()\n\u001b[1;32m     22\u001b[0m \u001b[38;5;28mprint\u001b[39m(result\u001b[38;5;241m.\u001b[39msummary)\n",
      "\u001b[0;31mTypeError\u001b[0m: OLS.__init__() got an unexpected keyword argument 'variable_name_x'"
     ]
    }
   ],
   "source": [
    "import geopandas as gpd\n",
    "import libpysal as ps\n",
    "from spreg import OLS\n",
    "\n",
    "shp_path = \"/Users/dilagurer/Desktop/tl_2023_us_county (2)\"\n",
    "shp_gdf = gpd.read_file(shp_path)\n",
    "\n",
    "\n",
    "y = shp_gdf['AWATER'].values  \n",
    "X = shp_gdf[['INTPTLAT', 'INTPTLON']].values  \n",
    "w = ps.weights.Queen.from_dataframe(shp_gdf)\n",
    "\n",
    "\n",
    "my_model_OLS = OLS(y, X, w=w, spat_diag=True, \n",
    "                variable_name_x=['INTPTLAT', 'INTPTLON'], \n",
    "                variable_name_y='AWATER')\n",
    "\n",
    "\n",
    "result = my_model_OLS.fit()\n",
    "\n",
    "\n",
    "print(result.summary)\n",
    "\n",
    "\n",
    "\n",
    "\n"
   ]
  },
  {
   "cell_type": "markdown",
   "id": "b901becb-3198-4d56-9666-292ad0004038",
   "metadata": {},
   "source": [
    "for the regression model, even though I couldn't run the model, my interpretation logic would be like this: I would look at p value and say whether the result is significant based on the alpha level ( let's assume 0.05), so I would say that result is significant if alpha level is equal or smaller than 0.05. also I would look to coefficient to see the change in dependent variable with one unit increase in independent variables."
   ]
  },
  {
   "cell_type": "markdown",
   "id": "34c5ca12-7633-4f84-84c2-cb304b0e2255",
   "metadata": {},
   "source": [
    "QUESTION 5"
   ]
  },
  {
   "cell_type": "code",
   "execution_count": null,
   "id": "8f8965f9-789a-48f9-b6b6-5a919cc732a2",
   "metadata": {
    "tags": []
   },
   "outputs": [],
   "source": [
    "import geopandas as gpd\n",
    "import matplotlib.pyplot as plt\n",
    "\n",
    "shp_path = \"/Users/dilagurer/Desktop/tl_2023_us_county (2)\"\n",
    "shp_gdf = gpd.read_file(shp_path)\n",
    "\n",
    "simplified_gdf = shp_gdf.simplify(tolerance=0.01)\n",
    "\n",
    "plt.figure(figsize=(10, 8))  \n",
    "simplified_gdf.plot(column='INTPTLAT', cmap='viridis', legend=True)\n",
    "plt.title('My Choropleth Map of INTPTLAT')\n",
    "plt.xlabel('Longitude')\n",
    "plt.ylabel('Latitude')\n",
    "plt.show()\n",
    "\n"
   ]
  },
  {
   "cell_type": "code",
   "execution_count": null,
   "id": "2c7fb364-3a12-429c-b2f6-7b26d9330636",
   "metadata": {},
   "outputs": [],
   "source": []
  }
 ],
 "metadata": {
  "kernelspec": {
   "display_name": "Python 3 (ipykernel)",
   "language": "python",
   "name": "python3"
  },
  "language_info": {
   "codemirror_mode": {
    "name": "ipython",
    "version": 3
   },
   "file_extension": ".py",
   "mimetype": "text/x-python",
   "name": "python",
   "nbconvert_exporter": "python",
   "pygments_lexer": "ipython3",
   "version": "3.11.5"
  }
 },
 "nbformat": 4,
 "nbformat_minor": 5
}
